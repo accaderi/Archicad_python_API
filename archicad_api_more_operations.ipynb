{
 "cells": [
  {
   "attachments": {},
   "cell_type": "markdown",
   "metadata": {},
   "source": [
    "## Archicad API <b>more operations</b>\n",
    "This notebook uses the Zones.pln file.<br>\n",
    "<a href='https://graphisoft.com/dl/Python/Zone%20numbering.zip'>Get it from here.</a><br><br>"
   ]
  },
  {
   "attachments": {},
   "cell_type": "markdown",
   "metadata": {},
   "source": [
    "Get the connection active and create the commands, types and utilities aliases."
   ]
  },
  {
   "cell_type": "code",
   "execution_count": 1,
   "metadata": {},
   "outputs": [],
   "source": [
    "# Import archicad connection (required), handle_dependencies is not necessary.\n",
    "from archicad import ACConnection\n",
    "\n",
    "# Establish the connection with the Archicad software, Archicad must be open and the pln file must be open too.\n",
    "conn = ACConnection.connect()\n",
    "assert conn\n",
    "\n",
    "# Create shorts of the commands, types and utilities.\n",
    "acc = conn.commands\n",
    "act = conn.types\n",
    "acu = conn.utilities"
   ]
  },
  {
   "attachments": {},
   "cell_type": "markdown",
   "metadata": {},
   "source": [
    "### Archicad Python API <b>Navigator Item operations</b>"
   ]
  },
  {
   "attachments": {},
   "cell_type": "markdown",
   "metadata": {},
   "source": [
    "#### Look into the Navigator Item Tree\n",
    "Getting the NavigatorTree:\n",
    "<dd>\n",
    "Using the <code>GetNavigatorItemTree()</code> command.<br>\n",
    "Arguments: <i>NavigatorTreeId. In order to get this id we can use the <code>NavigatorTreeId()</code>, takes argument the type of the  navigator item tree (string).</i><br>\n",
    "Returns: <i>A tree of navigtor items (NavigatorTree).</i><br>\n",
    "* Note: For Publisher sets we need the publisher set name (string) as second argument. More on that in the <a href='#Publisher_Sets'>'Working with Publisher Sets'</a> section.</dd>"
   ]
  },
  {
   "cell_type": "code",
   "execution_count": 2,
   "metadata": {},
   "outputs": [
    {
     "name": "stdout",
     "output_type": "stream",
     "text": [
      "OtherNavigatorTreeId {'type': 'ProjectMap'}\n",
      "OtherNavigatorTreeId {'type': 'ViewMap'}\n",
      "OtherNavigatorTreeId {'type': 'LayoutBook'}\n",
      "\n"
     ]
    }
   ],
   "source": [
    "print(f'''{act.NavigatorTreeId('ProjectMap')}\n",
    "{act.NavigatorTreeId('ViewMap')}\n",
    "{act.NavigatorTreeId('LayoutBook')}\n",
    "''')"
   ]
  },
  {
   "cell_type": "code",
   "execution_count": 3,
   "metadata": {},
   "outputs": [
    {
     "data": {
      "text/plain": [
       "NavigatorTree {'rootItem': {'navigatorItemId': {'guid': 'D0C2316C-DC71-44E2-B572-691D95E6AB3D'}, 'prefix': '', 'name': '', 'type': 'UndefinedItem', 'children': [{'navigatorItem': {'navigatorItemId': {'guid': '52B690D8-CCAC-4537-A775-10EB470D505B'}, 'prefix': 'Zones', 'name': 'Zones', 'type': 'LayoutBookRootItem', 'children': [{'navigatorItem': {'navigatorItemId': {'guid': 'D2455EAB-4075-48B1-A94D-83AF0543E341'}, 'prefix': '', 'name': 'Sheet Index', 'type': 'LayoutItem', 'sourceNavigatorItemId': {'guid': '495FBA17-0D06-4687-AB35-0412B77039DA'}, 'children': [{'navigatorItem': {'navigatorItemId': {'guid': 'E052B041-EA31-420A-B9D8-817982D0942B'}, 'prefix': '', 'name': 'Sheet Index', 'type': 'DrawingItem', 'sourceNavigatorItemId': {'guid': 'FCD7CEFF-31AC-494F-ADD8-DB0BB8AB92E8'}}}]}}, {'navigatorItem': {'navigatorItemId': {'guid': 'ECD23F92-5D0B-4E20-AC21-1700403E565E'}, 'prefix': 'A.01', 'name': 'Floor Plans', 'type': 'SubsetItem', 'children': [{'navigatorItem': {'navigatorItemId': {'guid': 'BA224EA8-D8C0-46D5-948A-F8B19AD1B3FB'}, 'prefix': 'A.01.1', 'name': 'Ground Floor', 'type': 'LayoutItem', 'sourceNavigatorItemId': {'guid': '493ACE47-EAD6-4F14-98B9-9E03C62F7A87'}, 'children': [{'navigatorItem': {'navigatorItemId': {'guid': '2722E255-8F7C-4FB3-B056-FBE1BCD5DFA6'}, 'prefix': '0.', 'name': 'Ground Floor', 'type': 'DrawingItem', 'sourceNavigatorItemId': {'guid': 'FFBF9659-5A8C-B75B-2FDC-91F51BB7B3B4'}}}]}}, {'navigatorItem': {'navigatorItemId': {'guid': '8A9367C8-708D-4023-8D94-B20651047F17'}, 'prefix': 'A.01.2', 'name': '1. Story', 'type': 'LayoutItem', 'sourceNavigatorItemId': {'guid': '7B5BB70E-C55D-4487-91D9-5B58D371145F'}, 'children': [{'navigatorItem': {'navigatorItemId': {'guid': '6AD8D021-78BB-4206-8525-6B6C082CDF69'}, 'prefix': '1.', 'name': 'Story', 'type': 'DrawingItem', 'sourceNavigatorItemId': {'guid': '027621D5-CE0F-E18B-6AFF-36947BD722B9'}}}]}}]}}, {'navigatorItem': {'navigatorItemId': {'guid': 'AA8FCD72-0610-43B2-A565-335CAD0E8C7E'}, 'prefix': 'Masters', 'name': 'Masters', 'type': 'MasterFolderItem', 'children': [{'navigatorItem': {'navigatorItemId': {'guid': 'C8B1EB9A-58C6-4AE6-9CAD-CF2C5DFD22D3'}, 'prefix': 'A4 Portrait', 'name': 'A4 Portrait', 'type': 'MasterLayoutItem', 'sourceNavigatorItemId': {'guid': 'B5C6FA35-BA19-416B-BA01-EB88F3354ABA'}}}, {'navigatorItem': {'navigatorItemId': {'guid': 'CC223D14-5290-40AA-A7FE-0D5FEB04B710'}, 'prefix': 'A3 Landscape', 'name': 'A3 Landscape', 'type': 'MasterLayoutItem', 'sourceNavigatorItemId': {'guid': '60F80956-C71D-4C02-8E1F-0A517B6881F8'}}}, {'navigatorItem': {'navigatorItemId': {'guid': '592BECD1-1C86-4637-8FD1-6ED44D4C6251'}, 'prefix': 'A2 Landscape', 'name': 'A2 Landscape', 'type': 'MasterLayoutItem', 'sourceNavigatorItemId': {'guid': '8FB552BE-627C-419A-BD98-078FCF4A9D47'}}}, {'navigatorItem': {'navigatorItemId': {'guid': '6B3E3B68-54AC-4E5A-A3EC-6390CA1F7537'}, 'prefix': 'A1 Landscape', 'name': 'A1 Landscape', 'type': 'MasterLayoutItem', 'sourceNavigatorItemId': {'guid': '1F200B68-0A6F-4C66-A322-E7F64B2B03AF'}}}]}}]}}]}}"
      ]
     },
     "execution_count": 3,
     "metadata": {},
     "output_type": "execute_result"
    }
   ],
   "source": [
    "acc.GetNavigatorItemTree(act.NavigatorTreeId('LayoutBook'))"
   ]
  },
  {
   "attachments": {},
   "cell_type": "markdown",
   "metadata": {},
   "source": [
    "Navigate in the NavigatorTree:<br><br>\n",
    "Getting the main item in the Tree."
   ]
  },
  {
   "cell_type": "code",
   "execution_count": 4,
   "metadata": {},
   "outputs": [
    {
     "data": {
      "text/plain": [
       "[NavigatorItemArrayItem {'navigatorItem': {'navigatorItemId': {'guid': '52B690D8-CCAC-4537-A775-10EB470D505B'}, 'prefix': 'Zones', 'name': 'Zones', 'type': 'LayoutBookRootItem', 'children': [{'navigatorItem': {'navigatorItemId': {'guid': 'D2455EAB-4075-48B1-A94D-83AF0543E341'}, 'prefix': '', 'name': 'Sheet Index', 'type': 'LayoutItem', 'sourceNavigatorItemId': {'guid': '495FBA17-0D06-4687-AB35-0412B77039DA'}, 'children': [{'navigatorItem': {'navigatorItemId': {'guid': 'E052B041-EA31-420A-B9D8-817982D0942B'}, 'prefix': '', 'name': 'Sheet Index', 'type': 'DrawingItem', 'sourceNavigatorItemId': {'guid': 'FCD7CEFF-31AC-494F-ADD8-DB0BB8AB92E8'}}}]}}, {'navigatorItem': {'navigatorItemId': {'guid': 'ECD23F92-5D0B-4E20-AC21-1700403E565E'}, 'prefix': 'A.01', 'name': 'Floor Plans', 'type': 'SubsetItem', 'children': [{'navigatorItem': {'navigatorItemId': {'guid': 'BA224EA8-D8C0-46D5-948A-F8B19AD1B3FB'}, 'prefix': 'A.01.1', 'name': 'Ground Floor', 'type': 'LayoutItem', 'sourceNavigatorItemId': {'guid': '493ACE47-EAD6-4F14-98B9-9E03C62F7A87'}, 'children': [{'navigatorItem': {'navigatorItemId': {'guid': '2722E255-8F7C-4FB3-B056-FBE1BCD5DFA6'}, 'prefix': '0.', 'name': 'Ground Floor', 'type': 'DrawingItem', 'sourceNavigatorItemId': {'guid': 'FFBF9659-5A8C-B75B-2FDC-91F51BB7B3B4'}}}]}}, {'navigatorItem': {'navigatorItemId': {'guid': '8A9367C8-708D-4023-8D94-B20651047F17'}, 'prefix': 'A.01.2', 'name': '1. Story', 'type': 'LayoutItem', 'sourceNavigatorItemId': {'guid': '7B5BB70E-C55D-4487-91D9-5B58D371145F'}, 'children': [{'navigatorItem': {'navigatorItemId': {'guid': '6AD8D021-78BB-4206-8525-6B6C082CDF69'}, 'prefix': '1.', 'name': 'Story', 'type': 'DrawingItem', 'sourceNavigatorItemId': {'guid': '027621D5-CE0F-E18B-6AFF-36947BD722B9'}}}]}}]}}, {'navigatorItem': {'navigatorItemId': {'guid': 'AA8FCD72-0610-43B2-A565-335CAD0E8C7E'}, 'prefix': 'Masters', 'name': 'Masters', 'type': 'MasterFolderItem', 'children': [{'navigatorItem': {'navigatorItemId': {'guid': 'C8B1EB9A-58C6-4AE6-9CAD-CF2C5DFD22D3'}, 'prefix': 'A4 Portrait', 'name': 'A4 Portrait', 'type': 'MasterLayoutItem', 'sourceNavigatorItemId': {'guid': 'B5C6FA35-BA19-416B-BA01-EB88F3354ABA'}}}, {'navigatorItem': {'navigatorItemId': {'guid': 'CC223D14-5290-40AA-A7FE-0D5FEB04B710'}, 'prefix': 'A3 Landscape', 'name': 'A3 Landscape', 'type': 'MasterLayoutItem', 'sourceNavigatorItemId': {'guid': '60F80956-C71D-4C02-8E1F-0A517B6881F8'}}}, {'navigatorItem': {'navigatorItemId': {'guid': '592BECD1-1C86-4637-8FD1-6ED44D4C6251'}, 'prefix': 'A2 Landscape', 'name': 'A2 Landscape', 'type': 'MasterLayoutItem', 'sourceNavigatorItemId': {'guid': '8FB552BE-627C-419A-BD98-078FCF4A9D47'}}}, {'navigatorItem': {'navigatorItemId': {'guid': '6B3E3B68-54AC-4E5A-A3EC-6390CA1F7537'}, 'prefix': 'A1 Landscape', 'name': 'A1 Landscape', 'type': 'MasterLayoutItem', 'sourceNavigatorItemId': {'guid': '1F200B68-0A6F-4C66-A322-E7F64B2B03AF'}}}]}}]}}]"
      ]
     },
     "execution_count": 4,
     "metadata": {},
     "output_type": "execute_result"
    }
   ],
   "source": [
    "acc.GetNavigatorItemTree(act.NavigatorTreeId('LayoutBook'))\\\n",
    "    .rootItem.children"
   ]
  },
  {
   "attachments": {},
   "cell_type": "markdown",
   "metadata": {},
   "source": [
    "Getting their children."
   ]
  },
  {
   "cell_type": "code",
   "execution_count": 5,
   "metadata": {},
   "outputs": [
    {
     "data": {
      "text/plain": [
       "[NavigatorItemArrayItem {'navigatorItem': {'navigatorItemId': {'guid': 'D2455EAB-4075-48B1-A94D-83AF0543E341'}, 'prefix': '', 'name': 'Sheet Index', 'type': 'LayoutItem', 'sourceNavigatorItemId': {'guid': '495FBA17-0D06-4687-AB35-0412B77039DA'}, 'children': [{'navigatorItem': {'navigatorItemId': {'guid': 'E052B041-EA31-420A-B9D8-817982D0942B'}, 'prefix': '', 'name': 'Sheet Index', 'type': 'DrawingItem', 'sourceNavigatorItemId': {'guid': 'FCD7CEFF-31AC-494F-ADD8-DB0BB8AB92E8'}}}]}},\n",
       " NavigatorItemArrayItem {'navigatorItem': {'navigatorItemId': {'guid': 'ECD23F92-5D0B-4E20-AC21-1700403E565E'}, 'prefix': 'A.01', 'name': 'Floor Plans', 'type': 'SubsetItem', 'children': [{'navigatorItem': {'navigatorItemId': {'guid': 'BA224EA8-D8C0-46D5-948A-F8B19AD1B3FB'}, 'prefix': 'A.01.1', 'name': 'Ground Floor', 'type': 'LayoutItem', 'sourceNavigatorItemId': {'guid': '493ACE47-EAD6-4F14-98B9-9E03C62F7A87'}, 'children': [{'navigatorItem': {'navigatorItemId': {'guid': '2722E255-8F7C-4FB3-B056-FBE1BCD5DFA6'}, 'prefix': '0.', 'name': 'Ground Floor', 'type': 'DrawingItem', 'sourceNavigatorItemId': {'guid': 'FFBF9659-5A8C-B75B-2FDC-91F51BB7B3B4'}}}]}}, {'navigatorItem': {'navigatorItemId': {'guid': '8A9367C8-708D-4023-8D94-B20651047F17'}, 'prefix': 'A.01.2', 'name': '1. Story', 'type': 'LayoutItem', 'sourceNavigatorItemId': {'guid': '7B5BB70E-C55D-4487-91D9-5B58D371145F'}, 'children': [{'navigatorItem': {'navigatorItemId': {'guid': '6AD8D021-78BB-4206-8525-6B6C082CDF69'}, 'prefix': '1.', 'name': 'Story', 'type': 'DrawingItem', 'sourceNavigatorItemId': {'guid': '027621D5-CE0F-E18B-6AFF-36947BD722B9'}}}]}}]}},\n",
       " NavigatorItemArrayItem {'navigatorItem': {'navigatorItemId': {'guid': 'AA8FCD72-0610-43B2-A565-335CAD0E8C7E'}, 'prefix': 'Masters', 'name': 'Masters', 'type': 'MasterFolderItem', 'children': [{'navigatorItem': {'navigatorItemId': {'guid': 'C8B1EB9A-58C6-4AE6-9CAD-CF2C5DFD22D3'}, 'prefix': 'A4 Portrait', 'name': 'A4 Portrait', 'type': 'MasterLayoutItem', 'sourceNavigatorItemId': {'guid': 'B5C6FA35-BA19-416B-BA01-EB88F3354ABA'}}}, {'navigatorItem': {'navigatorItemId': {'guid': 'CC223D14-5290-40AA-A7FE-0D5FEB04B710'}, 'prefix': 'A3 Landscape', 'name': 'A3 Landscape', 'type': 'MasterLayoutItem', 'sourceNavigatorItemId': {'guid': '60F80956-C71D-4C02-8E1F-0A517B6881F8'}}}, {'navigatorItem': {'navigatorItemId': {'guid': '592BECD1-1C86-4637-8FD1-6ED44D4C6251'}, 'prefix': 'A2 Landscape', 'name': 'A2 Landscape', 'type': 'MasterLayoutItem', 'sourceNavigatorItemId': {'guid': '8FB552BE-627C-419A-BD98-078FCF4A9D47'}}}, {'navigatorItem': {'navigatorItemId': {'guid': '6B3E3B68-54AC-4E5A-A3EC-6390CA1F7537'}, 'prefix': 'A1 Landscape', 'name': 'A1 Landscape', 'type': 'MasterLayoutItem', 'sourceNavigatorItemId': {'guid': '1F200B68-0A6F-4C66-A322-E7F64B2B03AF'}}}]}}]"
      ]
     },
     "execution_count": 5,
     "metadata": {},
     "output_type": "execute_result"
    }
   ],
   "source": [
    "acc.GetNavigatorItemTree(act.NavigatorTreeId('LayoutBook'))\\\n",
    "    .rootItem.children[0]\\\n",
    "        .navigatorItem.children"
   ]
  },
  {
   "attachments": {},
   "cell_type": "markdown",
   "metadata": {},
   "source": [
    "Getting the second children element end its children."
   ]
  },
  {
   "cell_type": "code",
   "execution_count": 6,
   "metadata": {},
   "outputs": [
    {
     "data": {
      "text/plain": [
       "[NavigatorItemArrayItem {'navigatorItem': {'navigatorItemId': {'guid': 'BA224EA8-D8C0-46D5-948A-F8B19AD1B3FB'}, 'prefix': 'A.01.1', 'name': 'Ground Floor', 'type': 'LayoutItem', 'sourceNavigatorItemId': {'guid': '493ACE47-EAD6-4F14-98B9-9E03C62F7A87'}, 'children': [{'navigatorItem': {'navigatorItemId': {'guid': '2722E255-8F7C-4FB3-B056-FBE1BCD5DFA6'}, 'prefix': '0.', 'name': 'Ground Floor', 'type': 'DrawingItem', 'sourceNavigatorItemId': {'guid': 'FFBF9659-5A8C-B75B-2FDC-91F51BB7B3B4'}}}]}},\n",
       " NavigatorItemArrayItem {'navigatorItem': {'navigatorItemId': {'guid': '8A9367C8-708D-4023-8D94-B20651047F17'}, 'prefix': 'A.01.2', 'name': '1. Story', 'type': 'LayoutItem', 'sourceNavigatorItemId': {'guid': '7B5BB70E-C55D-4487-91D9-5B58D371145F'}, 'children': [{'navigatorItem': {'navigatorItemId': {'guid': '6AD8D021-78BB-4206-8525-6B6C082CDF69'}, 'prefix': '1.', 'name': 'Story', 'type': 'DrawingItem', 'sourceNavigatorItemId': {'guid': '027621D5-CE0F-E18B-6AFF-36947BD722B9'}}}]}}]"
      ]
     },
     "execution_count": 6,
     "metadata": {},
     "output_type": "execute_result"
    }
   ],
   "source": [
    "acc.GetNavigatorItemTree(act.NavigatorTreeId('LayoutBook'))\\\n",
    "    .rootItem.children[0]\\\n",
    "    .navigatorItem.children[1]\\\n",
    "        .navigatorItem.children"
   ]
  },
  {
   "attachments": {},
   "cell_type": "markdown",
   "metadata": {},
   "source": [
    "Getting the first children element and its children."
   ]
  },
  {
   "cell_type": "code",
   "execution_count": 7,
   "metadata": {},
   "outputs": [
    {
     "data": {
      "text/plain": [
       "[NavigatorItemArrayItem {'navigatorItem': {'navigatorItemId': {'guid': '2722E255-8F7C-4FB3-B056-FBE1BCD5DFA6'}, 'prefix': '0.', 'name': 'Ground Floor', 'type': 'DrawingItem', 'sourceNavigatorItemId': {'guid': 'FFBF9659-5A8C-B75B-2FDC-91F51BB7B3B4'}}}]"
      ]
     },
     "execution_count": 7,
     "metadata": {},
     "output_type": "execute_result"
    }
   ],
   "source": [
    "acc.GetNavigatorItemTree(act.NavigatorTreeId('LayoutBook'))\\\n",
    "    .rootItem.children[0]\\\n",
    "    .navigatorItem.children[1]\\\n",
    "        .navigatorItem.children[0]\\\n",
    "        .navigatorItem.children"
   ]
  },
  {
   "attachments": {},
   "cell_type": "markdown",
   "metadata": {},
   "source": [
    "Getting the first element and since this is the last level let's have all the details of this element.<br>\n",
    "<i>Attributes:<br>navigatorItemId, prefix, name, type, sourceNavigatorItemId."
   ]
  },
  {
   "cell_type": "code",
   "execution_count": 8,
   "metadata": {},
   "outputs": [
    {
     "name": "stdout",
     "output_type": "stream",
     "text": [
      "NavigatorItem {'navigatorItemId': {'guid': '2722E255-8F7C-4FB3-B056-FBE1BCD5DFA6'}, 'prefix': '0.', 'name': 'Ground Floor', 'type': 'DrawingItem', 'sourceNavigatorItemId': {'guid': 'FFBF9659-5A8C-B75B-2FDC-91F51BB7B3B4'}}\n",
      "Name: Ground Floor\n"
     ]
    }
   ],
   "source": [
    "print(acc.GetNavigatorItemTree(act.NavigatorTreeId('LayoutBook'))\\\n",
    "    .rootItem.children[0]\\\n",
    "    .navigatorItem.children[1]\\\n",
    "        .navigatorItem.children[0]\\\n",
    "        .navigatorItem.children[0]\\\n",
    "        .navigatorItem)\n",
    "print('Name:', acc.GetNavigatorItemTree(act.NavigatorTreeId('LayoutBook'))\\\n",
    "    .rootItem.children[0]\\\n",
    "    .navigatorItem.children[1]\\\n",
    "        .navigatorItem.children[0]\\\n",
    "        .navigatorItem.children[0]\\\n",
    "        .navigatorItem.name)"
   ]
  },
  {
   "attachments": {},
   "cell_type": "markdown",
   "metadata": {},
   "source": [
    "Getting its source navigator item id."
   ]
  },
  {
   "cell_type": "code",
   "execution_count": 9,
   "metadata": {},
   "outputs": [
    {
     "data": {
      "text/plain": [
       "NavigatorItemId {'guid': 'FFBF9659-5A8C-B75B-2FDC-91F51BB7B3B4'}"
      ]
     },
     "execution_count": 9,
     "metadata": {},
     "output_type": "execute_result"
    }
   ],
   "source": [
    "acc.GetNavigatorItemTree(act.NavigatorTreeId('LayoutBook'))\\\n",
    "    .rootItem.children[0]\\\n",
    "    .navigatorItem.children[1]\\\n",
    "        .navigatorItem.children[0]\\\n",
    "        .navigatorItem.children[0]\\\n",
    "        .navigatorItem.sourceNavigatorItemId"
   ]
  },
  {
   "attachments": {},
   "cell_type": "markdown",
   "metadata": {},
   "source": [
    "Getting the source navigator item id type."
   ]
  },
  {
   "cell_type": "code",
   "execution_count": 10,
   "metadata": {},
   "outputs": [
    {
     "data": {
      "text/plain": [
       "[NavigatorItemIdAndTypeWrapper {'navigatorItemIdAndType': {'navigatorItemType': 'StoryItem', 'navigatorItemId': {'guid': 'FFBF9659-5A8C-B75B-2FDC-91F51BB7B3B4'}}}]"
      ]
     },
     "execution_count": 10,
     "metadata": {},
     "output_type": "execute_result"
    }
   ],
   "source": [
    "acc.GetNavigatorItemsType([acc.GetNavigatorItemTree(act.NavigatorTreeId('LayoutBook'))\\\n",
    "    .rootItem.children[0]\\\n",
    "    .navigatorItem.children[1]\\\n",
    "        .navigatorItem.children[0]\\\n",
    "        .navigatorItem.children[0]\\\n",
    "        .navigatorItem.sourceNavigatorItemId])"
   ]
  },
  {
   "attachments": {},
   "cell_type": "markdown",
   "metadata": {},
   "source": [
    "It is a StoryItem type.\n",
    "Getting the story navigator item gives error: Navigator item not found."
   ]
  },
  {
   "cell_type": "code",
   "execution_count": 11,
   "metadata": {},
   "outputs": [
    {
     "data": {
      "text/plain": [
       "[ErrorItem {'error': {'code': 7400, 'message': 'Navigator item not found (navigator item guid: \"FFBF9659-5A8C-B75B-2FDC-91F51BB7B3B4\")'}}]"
      ]
     },
     "execution_count": 11,
     "metadata": {},
     "output_type": "execute_result"
    }
   ],
   "source": [
    "acc.GetStoryNavigatorItems([acc.GetNavigatorItemTree(act.NavigatorTreeId('LayoutBook'))\\\n",
    "    .rootItem.children[0]\\\n",
    "    .navigatorItem.children[1]\\\n",
    "        .navigatorItem.children[0]\\\n",
    "        .navigatorItem.children[0]\\\n",
    "        .navigatorItem.sourceNavigatorItemId])"
   ]
  },
  {
   "cell_type": "code",
   "execution_count": 12,
   "metadata": {},
   "outputs": [
    {
     "data": {
      "text/plain": [
       "NavigatorItemId {'guid': 'FFBF9659-5A8C-B75B-2FDC-91F51BB7B3B4'}"
      ]
     },
     "execution_count": 12,
     "metadata": {},
     "output_type": "execute_result"
    }
   ],
   "source": [
    "snavit = acc.GetNavigatorItemTree(act.NavigatorTreeId('LayoutBook'))\\\n",
    "    .rootItem.children[0]\\\n",
    "    .navigatorItem.children[1]\\\n",
    "        .navigatorItem.children[0]\\\n",
    "        .navigatorItem.children[0]\\\n",
    "        .navigatorItem.sourceNavigatorItemId\n",
    "snavit"
   ]
  },
  {
   "attachments": {},
   "cell_type": "markdown",
   "metadata": {},
   "source": [
    "---"
   ]
  },
  {
   "attachments": {},
   "cell_type": "markdown",
   "metadata": {},
   "source": [
    "<a id='Publisher_Sets'></a>\n",
    "### Working with <b>Publisher Sets</b>\n",
    "We can get the publisher sets' name with the <code>GetPublisherSetNames()</code> command.<br>\n",
    "It takes no arguments and returns a list of the names (strings)."
   ]
  },
  {
   "cell_type": "code",
   "execution_count": 13,
   "metadata": {},
   "outputs": [
    {
     "data": {
      "text/plain": [
       "['1 - Views', '2 - Layouts']"
      ]
     },
     "execution_count": 13,
     "metadata": {},
     "output_type": "execute_result"
    }
   ],
   "source": [
    "Pub_set_names= acc.GetPublisherSetNames()\n",
    "Pub_set_names"
   ]
  },
  {
   "attachments": {},
   "cell_type": "markdown",
   "metadata": {},
   "source": [
    "Getting the identifier of a publisher set using the <code>PublisherSetId()</code> type.<br>\n",
    "<dd><i style = \"position:relative; top:0px;\">Arguments:\n",
    "<p style = \"position:relative; top:0px;\">name (str) – The name of the publisher set.<br>\n",
    "type (str) – The type of the navigator item tree."
   ]
  },
  {
   "cell_type": "code",
   "execution_count": 14,
   "metadata": {},
   "outputs": [
    {
     "data": {
      "text/plain": [
       "PublisherSetId {'name': '2 - Layouts', 'type': 'PublisherSets'}"
      ]
     },
     "execution_count": 14,
     "metadata": {},
     "output_type": "execute_result"
    }
   ],
   "source": [
    "act.PublisherSetId('2 - Layouts')"
   ]
  },
  {
   "attachments": {},
   "cell_type": "markdown",
   "metadata": {},
   "source": [
    "Getting the identifier of a publisher set using the <code>NavigatorTreeId()</code> type.<br>\n",
    "<dd><i style = \"position:relative; top:0px;\">Arguments:\n",
    "<p style = \"position:relative; top:0px;\">type (str) – The type of the navigator item tree.<br>\n",
    "name (str, optional) – The name of the publisher set."
   ]
  },
  {
   "cell_type": "code",
   "execution_count": 15,
   "metadata": {},
   "outputs": [
    {
     "data": {
      "text/plain": [
       "PublisherSetId {'name': '1 - Views', 'type': 'PublisherSets'}"
      ]
     },
     "execution_count": 15,
     "metadata": {},
     "output_type": "execute_result"
    }
   ],
   "source": [
    "act.NavigatorTreeId('PublisherSets', '1 - Views')"
   ]
  },
  {
   "attachments": {},
   "cell_type": "markdown",
   "metadata": {},
   "source": [
    "---"
   ]
  },
  {
   "attachments": {},
   "cell_type": "markdown",
   "metadata": {},
   "source": [
    "### Manipulate <b>Layout Subsets and Layouts</b>\n",
    "We can create <u>Layout Subsets</u>, and <u>Layouts</u> using many parameters."
   ]
  },
  {
   "attachments": {},
   "cell_type": "markdown",
   "metadata": {},
   "source": [
    "#### Create a subset using the <code>CreateLayoutSubset()</code> command.\n",
    "<dd><i style = \"position:relative; top:0px;\">Arguments:<br>\n",
    "subsetParameters (Subset) – A set of options used to assign IDs to the layouts contained in the subset.<br>\n",
    "parentNavigatorItemId (NavigatorItemId) – The identifier of a navigator item.<br><br>\n",
    "<i>Returns:<br>\n",
    "The identifier of a navigator item."
   ]
  },
  {
   "attachments": {},
   "cell_type": "markdown",
   "metadata": {},
   "source": [
    "Create the Subset first, using the <code>Subset()</code> type.\n",
    "<dd><i>Arguments:<br>\n",
    "name (str) – The name for the layout subset.<br>\n",
    "includeToIDSequence (bool) – Defines whether this subset is included in automatic ID assignment or not.<br>\n",
    "customNumbering (bool) – Defines whether the IDs are generated automatically or a custom numbering is used.<br>\n",
    "continueNumbering (bool) – Defines whether to continue using the ID assignment of the upper levels or not. If ‘true’, layouts within this subset are going to be assigned IDs as if they were not within this subset, but part of the level above. In this case you only use the Subset as a logical grouping which has no effect on IDs.<br>\n",
    "useUpperPrefix (bool) – Defines whether to use the prefix and ID of the upper levels or not. If ‘true’, layouts in this subset will be assigned IDs based on the previous layout in the layout book structure.<br>\n",
    "addOwnPrefix (bool) – Defines whether to add own prefix to the subset or not.<br>\n",
    "customNumber (str) – The custom subset ID.<br>\n",
    "autoNumber (str) – The automatic subset ID.<br>\n",
    "numberingStyle (str) – A supported numbering style.<br>\n",
    "startAt (int) – The starting value of the numbering.<br>\n",
    "ownPrefix (str) – The custom prefix for the subset.<br>"
   ]
  },
  {
   "cell_type": "code",
   "execution_count": 16,
   "metadata": {},
   "outputs": [
    {
     "data": {
      "text/plain": [
       "Subset {'name': '2. Story', 'includeToIDSequence': True, 'customNumbering': False, 'continueNumbering': True, 'useUpperPrefix': True, 'addOwnPrefix': False, 'customNumber': 'CN', 'autoNumber': 'AN', 'numberingStyle': 'ABC', 'startAt': 0, 'ownPrefix': ''}"
      ]
     },
     "execution_count": 16,
     "metadata": {},
     "output_type": "execute_result"
    }
   ],
   "source": [
    "New_subset = act.Subset('2. Story', includeToIDSequence=True, customNumbering=False,\n",
    "           continueNumbering=True, useUpperPrefix=True, addOwnPrefix=False,\n",
    "           customNumber='CN', autoNumber='AN', numberingStyle='ABC', startAt=0, ownPrefix='')\n",
    "New_subset"
   ]
  },
  {
   "attachments": {},
   "cell_type": "markdown",
   "metadata": {},
   "source": [
    "Let's find out the navigator id of the layout node under we would like to insert our new subset."
   ]
  },
  {
   "cell_type": "code",
   "execution_count": 17,
   "metadata": {},
   "outputs": [
    {
     "data": {
      "text/plain": [
       "NavigatorItemId {'guid': 'ECD23F92-5D0B-4E20-AC21-1700403E565E'}"
      ]
     },
     "execution_count": 17,
     "metadata": {},
     "output_type": "execute_result"
    }
   ],
   "source": [
    "New_Subset_Parent_Id = acc.GetNavigatorItemTree(act.NavigatorTreeId('LayoutBook'))\\\n",
    "    .rootItem.children[0]\\\n",
    "    .navigatorItem.children[1]\\\n",
    "    .navigatorItem.navigatorItemId\n",
    "New_Subset_Parent_Id"
   ]
  },
  {
   "attachments": {},
   "cell_type": "markdown",
   "metadata": {},
   "source": [
    "Finally create the Subset."
   ]
  },
  {
   "cell_type": "code",
   "execution_count": 18,
   "metadata": {},
   "outputs": [
    {
     "data": {
      "text/plain": [
       "NavigatorItemId {'guid': '963A5E13-FD74-4413-AA9E-A546DDA90376'}"
      ]
     },
     "execution_count": 18,
     "metadata": {},
     "output_type": "execute_result"
    }
   ],
   "source": [
    "acc.CreateLayoutSubset(New_subset, New_Subset_Parent_Id)"
   ]
  },
  {
   "attachments": {},
   "cell_type": "markdown",
   "metadata": {},
   "source": [
    "#### Create a new layout using the <code>CreateLayout()</code> command.\n",
    "<dd><i style = \"position:relative; top:0px;\">Arguments:<br>\n",
    "layoutName (str) – The name of the layout.<br>\n",
    "layoutParameters (LayoutParameters) – The parameters of the layout.<br>\n",
    "masterNavigatorItemId (NavigatorItemId) – The identifier of a navigator item.<br>\n",
    "parentNavigatorItemId (NavigatorItemId) – The identifier of a navigator item.<br><br>\n",
    "<i>Returns:<br>\n",
    "The identifier of a navigator item."
   ]
  },
  {
   "attachments": {},
   "cell_type": "markdown",
   "metadata": {},
   "source": [
    "Create the layout parameters using the <code>LayoutParameters()</code> type.<br>\n",
    "<i style = \"position:relative; top:10px;\">Arguments:\n",
    "<dd style = \"position:relative; top:-10px;\">horizontalSize (float) – The horizontal size of the layout in millimeters.<br>\n",
    "verticalSize (float) – The vertical size of the layout in millimeters.<br>\n",
    "leftMargin (float) – The layout margin from the left side of the paper.<br>\n",
    "topMargin (float) – The layout margin from the top side of the paper.<br>\n",
    "rightMargin (float) – The layout margin from the right side of the paper.<br>\n",
    "bottomMargin (float) – The layout margin from the bottom side of the paper.<br>\n",
    "customLayoutNumber (str) – The custom ID.<br>\n",
    "customLayoutNumbering (bool) – Defines whether a unique ID is used for the current layout or not.<br>\n",
    "doNotIncludeInNumbering (bool) – Defines whether this layout is included in automatic ID assignment or not.<br>\n",
    "displayMasterLayoutBelow (bool) – Defines whether to display the master layout above or below the layout.<br>\n",
    "layoutPageNumber (int) – The page number of layout when this layout contains multi-page drawings.<br>\n",
    "actPageIndex (int) – The actual index of layout inside the multi-page layout.<br>\n",
    "currentRevisionId (str) – The ID of the current document revision of the layout.<br>\n",
    "currentFinalRevisionId (str) – The ID with optional suffix of the current document revision of the layout.<br>\n",
    "hasIssuedRevision (bool) – Defines whether one or more issued document revisions have already been created for the layout or not.<br>\n",
    "hasActualRevision (bool) – Defines whether an open document revision exists for the layout or not."
   ]
  },
  {
   "cell_type": "code",
   "execution_count": 19,
   "metadata": {},
   "outputs": [
    {
     "data": {
      "text/plain": [
       "LayoutParameters {'horizontalSize': 594.0, 'verticalSize': 420.0, 'leftMargin': 0.0, 'topMargin': 0.0, 'rightMargin': 0.0, 'bottomMargin': 0.0, 'customLayoutNumber': 'Story', 'customLayoutNumbering': False, 'doNotIncludeInNumbering': False, 'displayMasterLayoutBelow': False, 'layoutPageNumber': 0, 'actPageIndex': 0, 'currentRevisionId': '00', 'currentFinalRevisionId': 'r', 'hasIssuedRevision': False, 'hasActualRevision': False}"
      ]
     },
     "execution_count": 19,
     "metadata": {},
     "output_type": "execute_result"
    }
   ],
   "source": [
    "New_Layout_param = act.LayoutParameters(horizontalSize=594.0, verticalSize=420.0,\n",
    "                     leftMargin=0, topMargin=0, rightMargin=0, bottomMargin=0,\n",
    "                     customLayoutNumber='Story',\n",
    "                     customLayoutNumbering=False, doNotIncludeInNumbering=False,\n",
    "                     displayMasterLayoutBelow=False, layoutPageNumber=0,\n",
    "                     actPageIndex=0, currentRevisionId='00', currentFinalRevisionId='r',\n",
    "                     hasIssuedRevision=False, hasActualRevision=False)\n",
    "New_Layout_param"
   ]
  },
  {
   "attachments": {},
   "cell_type": "markdown",
   "metadata": {},
   "source": [
    "Get the id of the Master Layout we would like to use for the Layer.<br>\n",
    "I am taking the 'A2 Landscape'."
   ]
  },
  {
   "cell_type": "code",
   "execution_count": 20,
   "metadata": {},
   "outputs": [
    {
     "data": {
      "text/plain": [
       "NavigatorItemId {'guid': '592BECD1-1C86-4637-8FD1-6ED44D4C6251'}"
      ]
     },
     "execution_count": 20,
     "metadata": {},
     "output_type": "execute_result"
    }
   ],
   "source": [
    "New_Layout_Master_Id = acc.GetNavigatorItemTree(act.NavigatorTreeId('LayoutBook'))\\\n",
    "    .rootItem.children[0]\\\n",
    "    .navigatorItem.children[2]\\\n",
    "    .navigatorItem.children[2]\\\n",
    "    .navigatorItem.navigatorItemId\n",
    "New_Layout_Master_Id"
   ]
  },
  {
   "attachments": {},
   "cell_type": "markdown",
   "metadata": {},
   "source": [
    "The parent Layout Id will be the id of the above created new '2. Story' Layout set."
   ]
  },
  {
   "cell_type": "code",
   "execution_count": 21,
   "metadata": {},
   "outputs": [
    {
     "data": {
      "text/plain": [
       "NavigatorItemId {'guid': '963A5E13-FD74-4413-AA9E-A546DDA90376'}"
      ]
     },
     "execution_count": 21,
     "metadata": {},
     "output_type": "execute_result"
    }
   ],
   "source": [
    "New_Layout_Parent_Id = acc.GetNavigatorItemTree(act.NavigatorTreeId('LayoutBook'))\\\n",
    "    .rootItem.children[0]\\\n",
    "    .navigatorItem.children[1]\\\n",
    "    .navigatorItem.children[2]\\\n",
    "    .navigatorItem.navigatorItemId\n",
    "New_Layout_Parent_Id"
   ]
  },
  {
   "attachments": {},
   "cell_type": "markdown",
   "metadata": {},
   "source": [
    "Let's create the Layout."
   ]
  },
  {
   "cell_type": "code",
   "execution_count": 22,
   "metadata": {},
   "outputs": [
    {
     "data": {
      "text/plain": [
       "NavigatorItemId {'guid': '8C1682D8-D712-4ACA-B14E-3582157A7CAE'}"
      ]
     },
     "execution_count": 22,
     "metadata": {},
     "output_type": "execute_result"
    }
   ],
   "source": [
    "acc.CreateLayout('2. Story', New_Layout_param, New_Layout_Master_Id, New_Layout_Parent_Id)"
   ]
  },
  {
   "attachments": {},
   "cell_type": "markdown",
   "metadata": {},
   "source": [
    "---"
   ]
  },
  {
   "attachments": {},
   "cell_type": "markdown",
   "metadata": {},
   "source": [
    "### Working with the <b>View Map</b>"
   ]
  },
  {
   "attachments": {},
   "cell_type": "markdown",
   "metadata": {},
   "source": [
    "#### Delete a navigator item from the View Map.<br>\n",
    "The command is: <code>DeleteNavigatorItems()</code>\n",
    "<dd><i style = \"position:relative; top:0px;\">Arguments:<br>\n",
    "navigatorItemIds (list of NavigatorItemIdWrapper) – A list of navigator item identifiers.<br><br>\n",
    "<i>Returns:<br>\n",
    "A list of execution results."
   ]
  },
  {
   "attachments": {},
   "cell_type": "markdown",
   "metadata": {},
   "source": [
    "Get the navigator item id or ids of the item we would like to delete.<br>\n",
    "Let's get it for the 'Floor plans' item. "
   ]
  },
  {
   "cell_type": "code",
   "execution_count": 23,
   "metadata": {},
   "outputs": [
    {
     "data": {
      "text/plain": [
       "NavigatorItemId {'guid': '3BE58A18-083D-471C-B0E8-C5D638717B44'}"
      ]
     },
     "execution_count": 23,
     "metadata": {},
     "output_type": "execute_result"
    }
   ],
   "source": [
    "Floor_plans = acc.GetNavigatorItemTree(act.NavigatorTreeId('ViewMap'))\\\n",
    "    .rootItem.children[0].navigatorItem.children[0].navigatorItem.navigatorItemId\n",
    "Floor_plans"
   ]
  },
  {
   "attachments": {},
   "cell_type": "markdown",
   "metadata": {},
   "source": [
    "Use the <code>DeleteNavigatorItems()</code> to remove this item.<br>\n",
    "It will remove all the children of this item as well."
   ]
  },
  {
   "cell_type": "code",
   "execution_count": 24,
   "metadata": {},
   "outputs": [
    {
     "data": {
      "text/plain": [
       "[SuccessfulExecutionResult {'success': True}]"
      ]
     },
     "execution_count": 24,
     "metadata": {},
     "output_type": "execute_result"
    }
   ],
   "source": [
    "acc.DeleteNavigatorItems([Floor_plans])"
   ]
  },
  {
   "attachments": {},
   "cell_type": "markdown",
   "metadata": {},
   "source": [
    "#### Clone Project Map navigator item to the View Map."
   ]
  },
  {
   "attachments": {},
   "cell_type": "markdown",
   "metadata": {},
   "source": [
    "Get the navigator item id we would like to clone.<br>\n",
    "I am cloning the 'Stories' item."
   ]
  },
  {
   "cell_type": "code",
   "execution_count": 25,
   "metadata": {},
   "outputs": [
    {
     "data": {
      "text/plain": [
       "NavigatorItemId {'guid': '8A3BBC57-86D6-407E-8B3C-3A862E32DF3A'}"
      ]
     },
     "execution_count": 25,
     "metadata": {},
     "output_type": "execute_result"
    }
   ],
   "source": [
    "Item_to_clone = acc.GetNavigatorItemTree(act.NavigatorTreeId('ProjectMap')).rootItem\\\n",
    ".children[0].navigatorItem.children[0].navigatorItem.navigatorItemId\n",
    "Item_to_clone"
   ]
  },
  {
   "attachments": {},
   "cell_type": "markdown",
   "metadata": {},
   "source": [
    "Get the id of the parent Navigator Item we would like to clone the Project Map item in/under."
   ]
  },
  {
   "cell_type": "code",
   "execution_count": 26,
   "metadata": {},
   "outputs": [
    {
     "data": {
      "text/plain": [
       "NavigatorItemId {'guid': '3C4A2145-A752-401C-AD75-902D0235F1D7'}"
      ]
     },
     "execution_count": 26,
     "metadata": {},
     "output_type": "execute_result"
    }
   ],
   "source": [
    "Parent_of_clone = acc.GetNavigatorItemTree(act.NavigatorTreeId('ViewMap')).rootItem\\\n",
    ".children[0].navigatorItem.navigatorItemId\n",
    "Parent_of_clone"
   ]
  },
  {
   "attachments": {},
   "cell_type": "markdown",
   "metadata": {},
   "source": [
    "Use the <code>CloneProjectMapItemToViewMap()</code> command to do the cloning."
   ]
  },
  {
   "cell_type": "code",
   "execution_count": 27,
   "metadata": {},
   "outputs": [
    {
     "data": {
      "text/plain": [
       "NavigatorItemId {'guid': 'AB354961-A0C9-440D-B767-FB78B56B32D6'}"
      ]
     },
     "execution_count": 27,
     "metadata": {},
     "output_type": "execute_result"
    }
   ],
   "source": [
    "acc.CloneProjectMapItemToViewMap(Item_to_clone, Parent_of_clone)"
   ]
  },
  {
   "attachments": {},
   "cell_type": "markdown",
   "metadata": {},
   "source": [
    "---"
   ]
  },
  {
   "attachments": {},
   "cell_type": "markdown",
   "metadata": {},
   "source": [
    "### Working with <b>Zones</b>\n",
    "#### Getting elements related to zones:\n",
    "<dd>\n",
    "Using the <code>GetElementsRelatedToZones</code> command.<br><br>\n",
    "<i>Arguments:<br>List of elements' guid, List of element types.<br><br>\n",
    "Returns:<br>List of 'ElementsWrappers'. Each of these contains the adjacent elements (guids), in different lists based on the element types .</i>"
   ]
  },
  {
   "attachments": {},
   "cell_type": "markdown",
   "metadata": {},
   "source": [
    "Get elements by type: 'Zone' and take the first one."
   ]
  },
  {
   "cell_type": "code",
   "execution_count": 73,
   "metadata": {},
   "outputs": [
    {
     "data": {
      "text/plain": [
       "[ElementIdArrayItem {'elementId': {'guid': 'F109D5C6-F0ED-4351-91AB-2F0AFE472CD4'}}]"
      ]
     },
     "execution_count": 73,
     "metadata": {},
     "output_type": "execute_result"
    }
   ],
   "source": [
    "elements = acc.GetElementsByType('Zone')\n",
    "element = elements[:1]\n",
    "element"
   ]
  },
  {
   "attachments": {},
   "cell_type": "markdown",
   "metadata": {},
   "source": [
    "Locate the element using the <code>Get3DBoundingBoxes()</code>. We can see from the coordinates that this is the very left top 'Zone' on the Ground Floor. "
   ]
  },
  {
   "cell_type": "code",
   "execution_count": 83,
   "metadata": {},
   "outputs": [
    {
     "name": "stdout",
     "output_type": "stream",
     "text": [
      "(X Min, Y Min)', '(0.0, 8.211874888)\n",
      "(X Max, Y Max)', '(5.268994742, 15.809975747)\n"
     ]
    }
   ],
   "source": [
    "element3Db = acc.Get3DBoundingBoxes(element)[0].boundingBox3D\n",
    "print(f'''(X Min, Y Min)', '({element3Db.xMin}, {element3Db.yMin})\n",
    "(X Max, Y Max)', '({element3Db.xMax}, {element3Db.yMax})''')"
   ]
  },
  {
   "attachments": {},
   "cell_type": "markdown",
   "metadata": {},
   "source": [
    "#### Get all 'Wall' elements related to this zone."
   ]
  },
  {
   "cell_type": "code",
   "execution_count": 86,
   "metadata": {},
   "outputs": [
    {
     "name": "stdout",
     "output_type": "stream",
     "text": [
      "ElementsWrapper {'elements': [{'elementId': {'guid': '8E24D0CC-7AE7-4D00-B8E5-CF6A78DAD107'}}, {'elementId': {'guid': 'E13808EB-0B41-4C60-BB80-628784744969'}}, {'elementId': {'guid': 'E13808EB-0B41-4C60-BB80-628784744969'}}, {'elementId': {'guid': 'D86213CC-29C1-400D-BB01-67E249A51774'}}, {'elementId': {'guid': '478B043A-FAB3-406A-A4BA-4912254AFEAD'}}, {'elementId': {'guid': 'C3DF1DB5-3B2E-453D-B75D-F980DD6E0ECF'}}, {'elementId': {'guid': '1F83DEA3-E5E2-4641-B682-1127B0D9C1E8'}}]}\n",
      "\n",
      "Walls related to the Zone:\n",
      "ElementIdArrayItem {'elementId': {'guid': '8E24D0CC-7AE7-4D00-B8E5-CF6A78DAD107'}}\n",
      "ElementIdArrayItem {'elementId': {'guid': 'E13808EB-0B41-4C60-BB80-628784744969'}}\n",
      "ElementIdArrayItem {'elementId': {'guid': 'E13808EB-0B41-4C60-BB80-628784744969'}}\n",
      "ElementIdArrayItem {'elementId': {'guid': 'D86213CC-29C1-400D-BB01-67E249A51774'}}\n",
      "ElementIdArrayItem {'elementId': {'guid': '478B043A-FAB3-406A-A4BA-4912254AFEAD'}}\n",
      "ElementIdArrayItem {'elementId': {'guid': 'C3DF1DB5-3B2E-453D-B75D-F980DD6E0ECF'}}\n",
      "ElementIdArrayItem {'elementId': {'guid': '1F83DEA3-E5E2-4641-B682-1127B0D9C1E8'}}\n"
     ]
    }
   ],
   "source": [
    "elements_in_zone = acc.GetElementsRelatedToZones(element, [\"Wall\"])\n",
    "print(*elements_in_zone, sep='\\n')\n",
    "print('\\nWalls related to the Zone:', *elements_in_zone[0].elements, sep='\\n')"
   ]
  },
  {
   "attachments": {},
   "cell_type": "markdown",
   "metadata": {},
   "source": [
    "We get seven guids. The 2nd and 3rd have the same guid. Investigate further a bit.<br>\n",
    "Get the types.  "
   ]
  },
  {
   "cell_type": "code",
   "execution_count": 68,
   "metadata": {},
   "outputs": [
    {
     "data": {
      "text/plain": [
       "[TypeOfElementWrapper {'typeOfElement': {'elementId': {'guid': '8E24D0CC-7AE7-4D00-B8E5-CF6A78DAD107'}, 'elementType': 'Wall'}},\n",
       " TypeOfElementWrapper {'typeOfElement': {'elementId': {'guid': 'E13808EB-0B41-4C60-BB80-628784744969'}, 'elementType': 'Wall'}},\n",
       " TypeOfElementWrapper {'typeOfElement': {'elementId': {'guid': 'E13808EB-0B41-4C60-BB80-628784744969'}, 'elementType': 'Wall'}},\n",
       " TypeOfElementWrapper {'typeOfElement': {'elementId': {'guid': 'D86213CC-29C1-400D-BB01-67E249A51774'}, 'elementType': 'Wall'}},\n",
       " TypeOfElementWrapper {'typeOfElement': {'elementId': {'guid': '478B043A-FAB3-406A-A4BA-4912254AFEAD'}, 'elementType': 'Wall'}},\n",
       " TypeOfElementWrapper {'typeOfElement': {'elementId': {'guid': 'C3DF1DB5-3B2E-453D-B75D-F980DD6E0ECF'}, 'elementType': 'Wall'}},\n",
       " TypeOfElementWrapper {'typeOfElement': {'elementId': {'guid': '1F83DEA3-E5E2-4641-B682-1127B0D9C1E8'}, 'elementType': 'Wall'}}]"
      ]
     },
     "execution_count": 68,
     "metadata": {},
     "output_type": "execute_result"
    }
   ],
   "source": [
    "acc.GetTypesOfElements(elements_in_zone[0].elements)"
   ]
  },
  {
   "attachments": {},
   "cell_type": "markdown",
   "metadata": {},
   "source": [
    "All of them are walls. Lets check the 3D bounding boxes to see more details of these walls."
   ]
  },
  {
   "cell_type": "code",
   "execution_count": 30,
   "metadata": {},
   "outputs": [
    {
     "data": {
      "text/plain": [
       "[BoundingBox3DWrapper {'boundingBox3D': {'xMin': -0.2, 'yMin': -2.013602013, 'zMin': 0.0, 'xMax': 0.0, 'yMax': 16.009975747, 'zMax': 3.0}},\n",
       " BoundingBox3DWrapper {'boundingBox3D': {'xMin': -0.2, 'yMin': 11.086695407, 'zMin': 0.0, 'xMax': 5.268994742, 'yMax': 11.186695407, 'zMax': 3.0}},\n",
       " BoundingBox3DWrapper {'boundingBox3D': {'xMin': -0.2, 'yMin': 11.086695407, 'zMin': 0.0, 'xMax': 5.268994742, 'yMax': 11.186695407, 'zMax': 3.0}},\n",
       " BoundingBox3DWrapper {'boundingBox3D': {'xMin': -0.2, 'yMin': 8.011874888, 'zMin': 0.0, 'xMax': 5.268994742, 'yMax': 8.211874888, 'zMax': 3.0}},\n",
       " BoundingBox3DWrapper {'boundingBox3D': {'xMin': 2.133430592, 'yMin': 8.011874888, 'zMin': 0.0, 'xMax': 2.233430592, 'yMax': 11.086695407, 'zMax': 3.0}},\n",
       " BoundingBox3DWrapper {'boundingBox3D': {'xMin': 5.268994742, 'yMin': 8.011874888, 'zMin': 0.02, 'xMax': 5.468994742, 'yMax': 16.009975747, 'zMax': 3.02}},\n",
       " BoundingBox3DWrapper {'boundingBox3D': {'xMin': -0.2, 'yMin': 15.809975747, 'zMin': 0.0, 'xMax': 5.268994742, 'yMax': 16.009975747, 'zMax': 3.0}}]"
      ]
     },
     "execution_count": 30,
     "metadata": {},
     "output_type": "execute_result"
    }
   ],
   "source": [
    "acc.Get3DBoundingBoxes(elements_in_zone[0].elements)"
   ]
  },
  {
   "attachments": {},
   "cell_type": "markdown",
   "metadata": {},
   "source": [
    "Based on the above we can conclude that these two are the same, means one wall.<br>\n",
    "*Note: Examining the project in Archicad we can see that the wall intersected by the slab and that is the reason to register as two objects."
   ]
  },
  {
   "attachments": {},
   "cell_type": "markdown",
   "metadata": {},
   "source": [
    "Getting to know what are the elements based on their guid:<br><br>\n",
    "<u>First step:</u>\n",
    "<dd>Using the <code>GetClassificationsOfElements</code> command.<br><br>\n",
    "<i>Arguments:<br>\n",
    "List of elements(ElementIdArrayItem) - list of guid of elements, List of classification system id.<br><br>\n",
    "Returns:<br>\n",
    "List of 'ClassificationIdsOrErrorsWrappers' containing classification ids of the system and the element.</i>\n"
   ]
  },
  {
   "cell_type": "code",
   "execution_count": 101,
   "metadata": {},
   "outputs": [
    {
     "data": {
      "text/plain": [
       "ClassificationItemId {'guid': '1AEB79EB-8D88-4F2E-9EA5-3432D006AB4F'}"
      ]
     },
     "execution_count": 101,
     "metadata": {},
     "output_type": "execute_result"
    }
   ],
   "source": [
    "elements_class_ids = acc.GetClassificationsOfElements(elements_in_zone[0].elements, [acu.FindClassificationSystem('ARCHICAD Classification')])\n",
    "first_elem_cid = elements_class_ids[0].classificationIds[0].classificationId.classificationItemId\n",
    "first_elem_cid"
   ]
  },
  {
   "attachments": {},
   "cell_type": "markdown",
   "metadata": {},
   "source": [
    "<u>Second step:</u><br>\n",
    "<dd>Getting the details of the elements using the <code>GetDetailsOfClassificationItems</code> command.<br><br>\n",
    "<i>Arguments:<br>\n",
    "List of classification item ids.<br><br>\n",
    "Returns:<br>\n",
    "List of 'ClassificationItemDetailsWrappers' containing\n",
    "the classification item id (guid), id, name, description.</i>"
   ]
  },
  {
   "cell_type": "code",
   "execution_count": 103,
   "metadata": {},
   "outputs": [
    {
     "data": {
      "text/plain": [
       "[ClassificationItemDetailsWrapper {'classificationItem': {'classificationItemId': {'guid': '1AEB79EB-8D88-4F2E-9EA5-3432D006AB4F'}, 'id': 'Wall', 'name': '', 'description': ''}}]"
      ]
     },
     "execution_count": 103,
     "metadata": {},
     "output_type": "execute_result"
    }
   ],
   "source": [
    "acc.GetDetailsOfClassificationItems([first_elem_cid])"
   ]
  },
  {
   "attachments": {},
   "cell_type": "markdown",
   "metadata": {},
   "source": [
    "#### What objects do we have in this 'Zone'?"
   ]
  },
  {
   "cell_type": "code",
   "execution_count": 112,
   "metadata": {},
   "outputs": [
    {
     "data": {
      "text/plain": [
       "[ElementIdArrayItem {'elementId': {'guid': '303C4020-E6E5-4B13-994E-470E29516B66'}},\n",
       " ElementIdArrayItem {'elementId': {'guid': '1913C3CB-5B6A-4F67-A443-7FD479F3BAA9'}},\n",
       " ElementIdArrayItem {'elementId': {'guid': '37749987-029A-4C59-AF9D-D484EC6C910F'}},\n",
       " ElementIdArrayItem {'elementId': {'guid': '5D500C21-50DA-41C5-9BAD-25D617FF8326'}},\n",
       " ElementIdArrayItem {'elementId': {'guid': '809654DA-B1E9-45FF-8E6A-F5D916F989B2'}},\n",
       " ElementIdArrayItem {'elementId': {'guid': '81A740B3-61D2-4981-8245-6DC5DA08BAD0'}},\n",
       " ElementIdArrayItem {'elementId': {'guid': '36FDF41B-6E06-4D0F-B83A-6338CDD365C5'}}]"
      ]
     },
     "execution_count": 112,
     "metadata": {},
     "output_type": "execute_result"
    }
   ],
   "source": [
    "Obj_in_zones = acc.GetElementsRelatedToZones(element, [\"Object\"])\n",
    "Obj_in_zones[0].elements"
   ]
  },
  {
   "attachments": {},
   "cell_type": "markdown",
   "metadata": {},
   "source": [
    "Let's see some details of these elements. e.g. Their name and height.<br>\n",
    "Get their Built in property ids first."
   ]
  },
  {
   "cell_type": "code",
   "execution_count": 106,
   "metadata": {},
   "outputs": [
    {
     "data": {
      "text/plain": [
       "(PropertyId {'guid': 'B8CFC590-58A3-43CF-A159-1B23BD3E8596'},\n",
       " PropertyId {'guid': 'C4B62357-1289-4D43-A3F6-AB02B192864C'})"
      ]
     },
     "execution_count": 106,
     "metadata": {},
     "output_type": "execute_result"
    }
   ],
   "source": [
    "libPartNamePropertyId = acu.GetBuiltInPropertyId('General_LibraryPartName')\n",
    "libPartNamePropertyId2 = acu.GetBuiltInPropertyId('General_Height')\n",
    "libPartNamePropertyId, libPartNamePropertyId2"
   ]
  },
  {
   "attachments": {},
   "cell_type": "markdown",
   "metadata": {},
   "source": [
    "Get their property values dictionaries."
   ]
  },
  {
   "cell_type": "code",
   "execution_count": 139,
   "metadata": {},
   "outputs": [
    {
     "data": {
      "text/plain": [
       "{ElementIdArrayItem {'elementId': {'guid': '303C4020-E6E5-4B13-994E-470E29516B66'}}: {PropertyId {'guid': 'B8CFC590-58A3-43CF-A159-1B23BD3E8596'}: 'Bed Double 01 26',\n",
       "  PropertyId {'guid': 'C4B62357-1289-4D43-A3F6-AB02B192864C'}: 0.66},\n",
       " ElementIdArrayItem {'elementId': {'guid': '1913C3CB-5B6A-4F67-A443-7FD479F3BAA9'}}: {PropertyId {'guid': 'B8CFC590-58A3-43CF-A159-1B23BD3E8596'}: 'Nightstand 01 26',\n",
       "  PropertyId {'guid': 'C4B62357-1289-4D43-A3F6-AB02B192864C'}: 0.5},\n",
       " ElementIdArrayItem {'elementId': {'guid': '37749987-029A-4C59-AF9D-D484EC6C910F'}}: {PropertyId {'guid': 'B8CFC590-58A3-43CF-A159-1B23BD3E8596'}: 'Nightstand 01 26',\n",
       "  PropertyId {'guid': 'C4B62357-1289-4D43-A3F6-AB02B192864C'}: 0.5},\n",
       " ElementIdArrayItem {'elementId': {'guid': '5D500C21-50DA-41C5-9BAD-25D617FF8326'}}: {PropertyId {'guid': 'B8CFC590-58A3-43CF-A159-1B23BD3E8596'}: 'Designer Table 05 26',\n",
       "  PropertyId {'guid': 'C4B62357-1289-4D43-A3F6-AB02B192864C'}: 0.6},\n",
       " ElementIdArrayItem {'elementId': {'guid': '809654DA-B1E9-45FF-8E6A-F5D916F989B2'}}: {PropertyId {'guid': 'B8CFC590-58A3-43CF-A159-1B23BD3E8596'}: 'Armchair 01 26',\n",
       "  PropertyId {'guid': 'C4B62357-1289-4D43-A3F6-AB02B192864C'}: 0.66},\n",
       " ElementIdArrayItem {'elementId': {'guid': '81A740B3-61D2-4981-8245-6DC5DA08BAD0'}}: {PropertyId {'guid': 'B8CFC590-58A3-43CF-A159-1B23BD3E8596'}: 'Armchair 01 26',\n",
       "  PropertyId {'guid': 'C4B62357-1289-4D43-A3F6-AB02B192864C'}: 0.66},\n",
       " ElementIdArrayItem {'elementId': {'guid': '36FDF41B-6E06-4D0F-B83A-6338CDD365C5'}}: {PropertyId {'guid': 'B8CFC590-58A3-43CF-A159-1B23BD3E8596'}: 'Wardrobe 02 24',\n",
       "  PropertyId {'guid': 'C4B62357-1289-4D43-A3F6-AB02B192864C'}: 2.1}}"
      ]
     },
     "execution_count": 139,
     "metadata": {},
     "output_type": "execute_result"
    }
   ],
   "source": [
    "prop_val_dict = acu.GetPropertyValuesDictionary(Obj_in_zones[0].elements, [libPartNamePropertyId, libPartNamePropertyId2])\n",
    "prop_val_dict"
   ]
  },
  {
   "attachments": {},
   "cell_type": "markdown",
   "metadata": {},
   "source": [
    "List out all the objects we have in this Zone using list comprehension."
   ]
  },
  {
   "cell_type": "code",
   "execution_count": 151,
   "metadata": {},
   "outputs": [
    {
     "name": "stdout",
     "output_type": "stream",
     "text": [
      "Item 1 name: Bed Double 01 26\n",
      "       height: 0.66\n",
      "Item 2 name: Nightstand 01 26\n",
      "       height: 0.5\n",
      "Item 3 name: Nightstand 01 26\n",
      "       height: 0.5\n",
      "Item 4 name: Designer Table 05 26\n",
      "       height: 0.6\n",
      "Item 5 name: Armchair 01 26\n",
      "       height: 0.66\n",
      "Item 6 name: Armchair 01 26\n",
      "       height: 0.66\n",
      "Item 7 name: Wardrobe 02 24\n",
      "       height: 2.1\n"
     ]
    }
   ],
   "source": [
    "print(*[f'{f\"Item {i+1} \" if l == libPartNamePropertyId else \"       \"}\\\n",
    "{\"name\" if l == libPartNamePropertyId else \"height\"}: \\\n",
    "{prop_val_dict[m][l]}' for i, m in enumerate(Obj_in_zones[0].elements)\\\n",
    "for l in[libPartNamePropertyId, libPartNamePropertyId2]], sep='\\n')"
   ]
  },
  {
   "attachments": {},
   "cell_type": "markdown",
   "metadata": {},
   "source": [
    "---"
   ]
  },
  {
   "attachments": {},
   "cell_type": "markdown",
   "metadata": {},
   "source": [
    "### Some operations with <b>Attributes</b>\n",
    "Attribute types: BuildingMaterial, Composite, Fill, Layer, LayerCombination, Line, PenTable, Profile, Surface, ZoneCategory"
   ]
  },
  {
   "attachments": {},
   "cell_type": "markdown",
   "metadata": {},
   "source": [
    "Get the first id of the 'Fill' attributes using <code>GetAttributesByType()</code> command.<br><br>\n",
    "<i>Arguments:<br>\n",
    "attributeType (str) – The type of an attribute.<br><br>\n",
    "Returns:<br>\n",
    "A list of attribute identifiers.</i>"
   ]
  },
  {
   "cell_type": "code",
   "execution_count": 51,
   "metadata": {},
   "outputs": [
    {
     "data": {
      "text/plain": [
       "AttributeIdWrapperItem {'attributeId': {'guid': '87E1F859-C78F-4188-94DC-5FF4616F7B75'}}"
      ]
     },
     "execution_count": 51,
     "metadata": {},
     "output_type": "execute_result"
    }
   ],
   "source": [
    "Att_id = acc.GetAttributesByType('Fill')\n",
    "Att_id[0]"
   ]
  },
  {
   "attachments": {},
   "cell_type": "markdown",
   "metadata": {},
   "source": [
    "Get the first 'Fill' attribute using <code>GetFillAttributes()</code> command.<br><br>\n",
    "<i>Arguments:<br>\n",
    "attributeIds (list of AttributeIdWrapperItem) – A list of attribute identifiers.<br><br>\n",
    "Returns:<br>\n",
    "A list of fill attributes and potential errors.</i>"
   ]
  },
  {
   "cell_type": "code",
   "execution_count": 53,
   "metadata": {},
   "outputs": [
    {
     "data": {
      "text/plain": [
       "[FillAttributeWrapper {'fillAttribute': {'attributeId': {'guid': '87E1F859-C78F-4188-94DC-5FF4616F7B75'}, 'name': 'Common Brick', 'subType': 'Vector', 'pattern': 9819010546270478865, 'appearanceType': 'ScaleIndependent'}}]"
      ]
     },
     "execution_count": 53,
     "metadata": {},
     "output_type": "execute_result"
    }
   ],
   "source": [
    "acc.GetFillAttributes([Att_id[0]])"
   ]
  },
  {
   "attachments": {},
   "cell_type": "markdown",
   "metadata": {},
   "source": [
    "Create an attribute folder using <code>CreateAttributeFolders()</code> command.<br><br>\n",
    "<i>Arguments:<br>\n",
    "attributeFolders (list of AttributeFolder) – A list of attribute folders.<br><br>\n",
    "Returns:<br>\n",
    "A list of execution results.</i>"
   ]
  },
  {
   "attachments": {},
   "cell_type": "markdown",
   "metadata": {},
   "source": [
    "Prepare an attribute folder first, using <code>AttributeFolder()</code> type.<br><br>\n",
    "<i>Variables:<br>\n",
    "attributeType (str) – The type of an attribute.<br>\n",
    "path (list of str, optional) – A list of attribute folder names. May be empty.<br>\n",
    "attributeFolderId (AttributeFolderId, optional) – The identifier of an attribute folder.</i>"
   ]
  },
  {
   "cell_type": "code",
   "execution_count": 128,
   "metadata": {},
   "outputs": [
    {
     "data": {
      "text/plain": [
       "AttributeFolder {'attributeType': 'Layer', 'path': ['main', 'sub']}"
      ]
     },
     "execution_count": 128,
     "metadata": {},
     "output_type": "execute_result"
    }
   ],
   "source": [
    "Att_fold = act.AttributeFolder('Layer', ['main', 'sub'])\n",
    "Att_fold"
   ]
  },
  {
   "attachments": {},
   "cell_type": "markdown",
   "metadata": {},
   "source": [
    "Create the Attribute folder. This will be Layers / main / sub"
   ]
  },
  {
   "cell_type": "code",
   "execution_count": 129,
   "metadata": {},
   "outputs": [
    {
     "data": {
      "text/plain": [
       "[SuccessfulExecutionResult {'success': True}]"
      ]
     },
     "execution_count": 129,
     "metadata": {},
     "output_type": "execute_result"
    }
   ],
   "source": [
    "acc.CreateAttributeFolders([Att_fold])"
   ]
  },
  {
   "attachments": {},
   "cell_type": "markdown",
   "metadata": {},
   "source": [
    "---"
   ]
  },
  {
   "attachments": {},
   "cell_type": "markdown",
   "metadata": {},
   "source": [
    "### Working with <b>Property ids</b>\n",
    "#### Getting the Built In Property Id:\n",
    "<dd>\n",
    "The built in properties are the core properties in Archicad cannot be deleted or modified freely axcept their values.<br>\n",
    "Using the <code>GetBuiltInPropertyId</code> utility.<br><br>\n",
    "<i>Arguments:<br>\n",
    "Name of the property (string).<br><br>\n",
    "Returns:<br>\n",
    "Returns the PropertyId of the corresponding built-in property.</i>"
   ]
  },
  {
   "cell_type": "code",
   "execution_count": 132,
   "metadata": {},
   "outputs": [
    {
     "data": {
      "text/plain": [
       "PropertyId {'guid': 'C4B62357-1289-4D43-A3F6-AB02B192864C'}"
      ]
     },
     "execution_count": 132,
     "metadata": {},
     "output_type": "execute_result"
    }
   ],
   "source": [
    "acu.GetBuiltInPropertyId('General_Height')"
   ]
  },
  {
   "attachments": {},
   "cell_type": "markdown",
   "metadata": {},
   "source": [
    "#### Getting the User Defined Property Id:\n",
    "<dd>\n",
    "The user defined properties are defined by the user. These can be modified freely, created and deleted. They are in groups so when we identify them we need their group name and their name.<br><br>\n",
    "Using the <code>GetUserDefinedPropertyId</code> utility.<br><br>\n",
    "<i>Arguments:<br>\n",
    "Name of the group (string) and the name of the property (string).<br><br>\n",
    "Returns:<br>\n",
    "Returns the PropertyId of the corresponding user defined property property.</i>"
   ]
  },
  {
   "cell_type": "code",
   "execution_count": null,
   "metadata": {},
   "outputs": [
    {
     "data": {
      "text/plain": [
       "PropertyId {'guid': '0A33C71A-FEFB-4346-B1E2-4177D28333A2'}"
      ]
     },
     "execution_count": 26,
     "metadata": {},
     "output_type": "execute_result"
    }
   ],
   "source": [
    "acu.GetUserDefinedPropertyId(\"ZONES\", \"Temperature Requirement\")"
   ]
  },
  {
   "attachments": {},
   "cell_type": "markdown",
   "metadata": {},
   "source": [
    "#### Getting the User Defined Property User Id\n",
    "Using the <code>UserDefinedPropertyUserId</code> type.<br><br>\n",
    "This is the unique identifier of a User-Defined Property, identified by its name.<br>\n",
    "\n",
    "<i>Variables:<br>\n",
    "localizedName (list of str) – A two-element list of the localized name parts. The first element is the name of the group the property belongs to, and the second element is the actual name of the property.<br>\n",
    "type (str) – EMPTY STRING</i>"
   ]
  },
  {
   "cell_type": "code",
   "execution_count": 130,
   "metadata": {},
   "outputs": [
    {
     "data": {
      "text/plain": [
       "UserDefinedPropertyUserId {'localizedName': ['ZONES', 'Temperature Requirement'], 'type': 'UserDefined'}"
      ]
     },
     "execution_count": 130,
     "metadata": {},
     "output_type": "execute_result"
    }
   ],
   "source": [
    "userpid = act.UserDefinedPropertyUserId([\"ZONES\", \"Temperature Requirement\"])\n",
    "userpid"
   ]
  },
  {
   "attachments": {},
   "cell_type": "markdown",
   "metadata": {},
   "source": [
    "#### Getting the Property Ids\n",
    "Using the <code>GetPropertyIds</code> command.<br><br>\n",
    "<i>Arguments:<br>PropertyUserId. To get this we need to use the <code>UserDefinedPropertyUserId</code>, takes a list of the group name and name arguments.<br><br>\n",
    "Returns:<br>\n",
    "Returns a list 'PropertyIdArrayItems' of the corresponding user defined properties which contains the guids.</i>"
   ]
  },
  {
   "cell_type": "code",
   "execution_count": 131,
   "metadata": {},
   "outputs": [
    {
     "data": {
      "text/plain": [
       "[PropertyIdArrayItem {'propertyId': {'guid': '0A33C71A-FEFB-4346-B1E2-4177D28333A2'}}]"
      ]
     },
     "execution_count": 131,
     "metadata": {},
     "output_type": "execute_result"
    }
   ],
   "source": [
    "acc.GetPropertyIds([userpid])"
   ]
  },
  {
   "attachments": {},
   "cell_type": "markdown",
   "metadata": {},
   "source": [
    "Get the details of a property with <code>GetDetailsOfProperties()</code> command using the property id.<br><br>\n",
    "<i>Arguments:<br>properties (list of PropertyIdArrayItem) – A list of property identifiers.<br><br>\n",
    "Returns:<br>\n",
    "A list of property definitions or errors.</i>\n"
   ]
  },
  {
   "cell_type": "code",
   "execution_count": 133,
   "metadata": {},
   "outputs": [
    {
     "data": {
      "text/plain": [
       "[PropertyDefinitionWrapper {'propertyDefinition': {'group': {'propertyGroupId': {'guid': 'F6BCD95E-5C9E-4492-B76D-48275B0019FD'}, 'name': 'ZONES'}, 'name': 'Temperature Requirement', 'description': '°C', 'isEditable': True, 'type': 'string', 'propertyId': {'guid': '0A33C71A-FEFB-4346-B1E2-4177D28333A2'}, 'defaultValue': {'basicDefaultValue': {'type': 'string', 'status': 'userUndefined'}}}}]"
      ]
     },
     "execution_count": 133,
     "metadata": {},
     "output_type": "execute_result"
    }
   ],
   "source": [
    "acc.GetDetailsOfProperties(acc.GetPropertyIds([userpid]))"
   ]
  },
  {
   "cell_type": "code",
   "execution_count": 134,
   "metadata": {},
   "outputs": [
    {
     "data": {
      "text/plain": [
       "[PropertyDefinitionWrapper {'propertyDefinition': {'group': {'propertyGroupId': {'guid': '10EDC72A-FBFB-4E45-B475-264256AF12CD'}, 'name': 'General Parameters'}, 'name': 'Height', 'description': '', 'isEditable': True, 'type': 'length', 'propertyId': {'guid': 'C4B62357-1289-4D43-A3F6-AB02B192864C'}}},\n",
       " PropertyDefinitionWrapper {'propertyDefinition': {'group': {'propertyGroupId': {'guid': 'F6BCD95E-5C9E-4492-B76D-48275B0019FD'}, 'name': 'ZONES'}, 'name': 'Temperature Requirement', 'description': '°C', 'isEditable': True, 'type': 'string', 'propertyId': {'guid': '0A33C71A-FEFB-4346-B1E2-4177D28333A2'}, 'defaultValue': {'basicDefaultValue': {'type': 'string', 'status': 'userUndefined'}}}}]"
      ]
     },
     "execution_count": 134,
     "metadata": {},
     "output_type": "execute_result"
    }
   ],
   "source": [
    "acc.GetDetailsOfProperties([acu.GetBuiltInPropertyId('General_Height'), acu.GetUserDefinedPropertyId(\"ZONES\", \"Temperature Requirement\")])"
   ]
  },
  {
   "attachments": {},
   "cell_type": "markdown",
   "metadata": {},
   "source": [
    "---"
   ]
  }
 ],
 "metadata": {
  "kernelspec": {
   "display_name": "Python 3",
   "language": "python",
   "name": "python3"
  },
  "language_info": {
   "codemirror_mode": {
    "name": "ipython",
    "version": 3
   },
   "file_extension": ".py",
   "mimetype": "text/x-python",
   "name": "python",
   "nbconvert_exporter": "python",
   "pygments_lexer": "ipython3",
   "version": "3.11.0"
  },
  "orig_nbformat": 4
 },
 "nbformat": 4,
 "nbformat_minor": 2
}
