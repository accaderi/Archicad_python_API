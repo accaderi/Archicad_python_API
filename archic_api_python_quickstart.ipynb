{
 "cells": [
  {
   "attachments": {},
   "cell_type": "markdown",
   "metadata": {},
   "source": [
    "<h1>Getting started with Archicad Python API</h1><a class=\"anchor\" id=\"chapter1\"></a>\n",
    "<h2>Introduction</h2>\n",
    "<p>You can start from here: <a href=\"https://pypi.org/project/archicad/\">Archicad Python Package Webpage</a></p>\n",
    "<br>\n",
    "Here you can find the package, the minimum information regarding installation and some details regarding the package.\n",
    "<br><br>\n",
    "Under the Documentation section you can find some useful links:\n",
    "<br>\n",
    "<ul>\n",
    "<li><a href=\"https://archicadapi.graphisoft.com/archicadPythonPackage/archicad.html\">Reference Manual</a>\n",
    "<li><a href=\"https://archicadapi.graphisoft.com/JSONInterfaceDocumentation/#Introduction\">Documentation of Archicad's new JSON interface</a>\n",
    "<li><a href=\"https://graphisoft.com/downloads/python\">Official Graphisoft Homepage / downloads / python</a></li>\n",
    "</ul>\n",
    "<b>What is the purpose of this repo if Graphisoft has the User Manual, and those links detailing the API?</b>\n",
    "<br>\n",
    "<p>The truth to be told I have found those docs to be a bit confusing and not well detailed. I think if you are just getting started with python and APIs you migh be confused too.<br>\n",
    "With this repo I try to help you to understand how the Archicad python (JSON) API works, what the main concepts are.<br>\n",
    "I hope if you read through this repo you will get the hang of it or at least get the general sense of how this API works and you can make your own scripts.</p> "
   ]
  },
  {
   "attachments": {},
   "cell_type": "markdown",
   "metadata": {},
   "source": [
    "<h2>Preparation</h2>\n",
    "<h4>Get the project file</h4>\n",
    "<b>Note:</b>To get the required file you need to have a Graphisoft account, if you don't have yet it is very easy to create and it is free too.\n",
    "<br>\n",
    "<dd><a href=\"https://graphisoft.com/dl/Python/Room%20report%20generator.zip\">Room report generator.zip</a></dd>\n",
    "<br>\n",
    "<h4>Getting ready for scripting</h4>\n",
    "<b>Note:</b> We are not using the built in Archicad python addon to run our codes instead, we are utilizing an IDE to create and run our python scripts (i.e. VS Code, Jupyter Notebook etc.)<br><br>\n"
   ]
  },
  {
   "attachments": {},
   "cell_type": "markdown",
   "metadata": {},
   "source": [
    "<h2>Scripting</h2>\n",
    "Some things we always need to do to get the environment we are using up and running:\n",
    "<br><br>\n",
    "<ol>\n",
    "<li>We need to open our Archicad software and open the  project we would like to manipulate.</li>\n",
    "<li>we need to import the Archicad connection module and establish the connection to the Archicad program with the project open.</li>\n",
    "\n"
   ]
  },
  {
   "cell_type": "code",
   "execution_count": 1,
   "metadata": {},
   "outputs": [],
   "source": [
    "from archicad import ACConnection\n",
    "\n",
    "conn = ACConnection.connect()\n",
    "assert conn"
   ]
  },
  {
   "attachments": {},
   "cell_type": "markdown",
   "metadata": {},
   "source": [
    "<h4>The Archicad API has three main pillars we can use to manipulate the project</h4>\n",
    "<ol>\n",
    "<li>Commands</li>\n",
    "<dt>These are the collection of the Archicad JSON interface commands, used to give instruction (requests) to the Archicad Software itself(e.g. get certain elements' id, set a certain value to an element etc.)</dt><br>\n",
    "<li>Types</li>\n",
    "<dt>Types used to manipulate different objects (e.g.element Id, element value etc.)</dt><br>\n",
    "<li>Utilities</li>\n",
    "<dt>Independent utilities doing things with the elements, properties etc.</dt>\n",
    "</ol>"
   ]
  },
  {
   "cell_type": "code",
   "execution_count": 17,
   "metadata": {},
   "outputs": [],
   "source": [
    "acc = conn.commands\n",
    "act = conn.types\n",
    "acu = conn.utilities"
   ]
  },
  {
   "attachments": {},
   "cell_type": "markdown",
   "metadata": {},
   "source": [
    "<h4>Example of a command</h4>\n",
    "We can check if the connection is alive with the IsAlive() command:<br>\n",
    "<br>\n",
    "<dd><b>IsAlive()</b> → bool<br><br>\n",
    "Checks if the Archicad connection is alive.\n",
    "<br><br>\n",
    "Returns:<br>\n",
    "<i>A list of elements.</i>\n",
    "<br>\n",
    "Return type:<br>\n",
    "<i>Returns true if the connection is alive</i>\n",
    "<br>\n",
    "Return type:<br>\n",
    "<i>bool\n",
    "</dd>\n",
    "</dl>"
   ]
  },
  {
   "cell_type": "code",
   "execution_count": 18,
   "metadata": {},
   "outputs": [
    {
     "name": "stdout",
     "output_type": "stream",
     "text": [
      "True\n"
     ]
    }
   ],
   "source": [
    "print(acc.IsAlive())"
   ]
  },
  {
   "attachments": {},
   "cell_type": "markdown",
   "metadata": {},
   "source": [
    "<h2>Getting elements from the connected plan.</h2>\n",
    "<br>To get elements from the connected plan we practically get the 'guid' of the element.<br><br>\n",
    "- The 'guid' is a <i>Globally Unique Identifier</i> also referred to as 'UUID' - <i>Universally Unique Identifier</i> -\n",
    "<br><br><h4>Some options to get the 'guid' of the elements:</h4>\n",
    "<dl>\n",
    "<dt><li>Using the GetElementsByType() command (1 step process):</li></dt><br>\n",
    "<dd><b>GetElementsByType(</b><i>elementType: str</i><b>)</b> → List[ElementIdArrayItem]<br><br>\n",
    "Returns the identifier of every element of the given type on the plan.<br>\n",
    "<br>Parameters:<br>\n",
    "<i>elementType (str) – The type of an element.</i>\n",
    "<br>\n",
    "Returns:<br>\n",
    "<i>A list of elements.</i>\n",
    "<br>\n",
    "Return type:<br>\n",
    "<i>list of ElementIdArrayItem</i>\n",
    "</dd>\n",
    "</dl>\n",
    "<br>\n",
    "Supported element types:<br>\n",
    "<a href=\"https://archicadapi.graphisoft.com/JSONInterfaceDocumentation/#GetElementsByType\">https://archicadapi.graphisoft.com/JSONInterfaceDocumentation/#GetElementsByType</a>\n",
    "<br>\n",
    "<br>List of these elements as of Apr.2023:<br>\n",
    "Wall Column Beam Window Door Object Lamp Slab Roof Mesh Zone CurtainWall Shell Skylight Morph Stair Railing Opening"
   ]
  },
  {
   "cell_type": "code",
   "execution_count": 22,
   "metadata": {},
   "outputs": [
    {
     "name": "stdout",
     "output_type": "stream",
     "text": [
      "[ElementIdArrayItem {'elementId': {'guid': 'BC551E01-954A-48CD-A742-B17F959A843C'}}, ElementIdArrayItem {'elementId': {'guid': '1DD49D40-562B-4CE1-BDE7-592478EBCC92'}}, ElementIdArrayItem {'elementId': {'guid': '25EF8392-D2AC-4816-AE2C-C25726E17E0C'}}, ElementIdArrayItem {'elementId': {'guid': '57CF6693-EE63-4FE0-8C93-67A22A11E0A1'}}]\n",
      "length of the elements' list: 4, type: <class 'list'>\n",
      "The elementId of the first element in the list: ElementId {'guid': 'BC551E01-954A-48CD-A742-B17F959A843C'}\n"
     ]
    }
   ],
   "source": [
    "elements = acc.GetElementsByType(\"Beam\")\n",
    "print(elements)\n",
    "print(f\"length of the elements' list: {len(elements)}, type: {type(elements)}\")\n",
    "print(f\"The elementId of the first element in the list: {elements[0].elementId}\")"
   ]
  },
  {
   "attachments": {},
   "cell_type": "markdown",
   "metadata": {},
   "source": [
    "\n",
    "<dt><li>Using the GetElementsByClassification() command (2 steps process):</li></dt><br>\n",
    "<dd>To get element using the classification Id we need to know the classification Id of the element:<br><br>\n",
    "We can find all the classifications in Archicad using the <i>Classification Manager</i> (<b>Options > Classification Manager</b>):<br>\n",
    "<a href=\"url\">https://helpcenter.graphisoft.com/user-guide/76741/</a><br><br>\n",
    "<img src=\"Classific_man.jpg\" alt=\"Classification Manager\"><br><br>\n",
    "To get the 'guid' of the classification Id we use the FindClassificationItemInSystem() utility (1st step):<br><br>\n",
    "<b>FindClassificationItemInSystem(</b><i>system_name: str, item_id: str</i><b>)</b> → Optional[ClassificationItemInTree]<br><br>\n",
    "Finds the classification item in a system.<br>\n",
    "<br>Parameters:<br>\n",
    "<i>system_name – Given in the 'Name' field under 'Classification System Definition' in the Classification Manager.<br>\n",
    "item_id – To be find in the Classification Manager, e.g. in the classification tree under the search box.\n",
    "</i><br>\n",
    "Returns:<br>\n",
    "<i>ClassificationItemInTree object which contains the ClassificationItemId, id, name, description of the ItemId and all the children ItemIds' classificationItem classes with the guid, id, name and description.</i>\n",
    "<br>\n",
    "Return type:<br>\n",
    "<i>class of ClassificationItemInTree</i>\n",
    "</dd>\n",
    "</dl>"
   ]
  },
  {
   "cell_type": "code",
   "execution_count": 39,
   "metadata": {},
   "outputs": [
    {
     "name": "stdout",
     "output_type": "stream",
     "text": [
      "Type of the found item: <class 'archicad.releases.ac26.b3000types.ClassificationItemInTree'>\n",
      "ClassificationItemInTree {'classificationItemId': {'guid': 'D8A32916-7247-451F-B6A2-0711D228146C'}, 'id': 'Window', 'name': '', 'description': '', 'children': [{'classificationItem': {'classificationItemId': {'guid': '1C49465B-361F-40F3-AA6C-64C94D74A871'}, 'id': 'Lightdome', 'name': '', 'description': ''}}, {'classificationItem': {'classificationItemId': {'guid': '7EE7257C-1A9E-49DF-AE79-2C09F2ADA3C7'}, 'id': 'Skylight', 'name': '', 'description': ''}}]}\n",
      "<class 'archicad.releases.ac26.b3000types.ClassificationItemId'>\n",
      "we can get the guid only if we need: d8a32916-7247-451f-b6a2-0711d228146c\n",
      "\n"
     ]
    }
   ],
   "source": [
    "classificationItem = acu.FindClassificationItemInSystem(\n",
    "    'ARCHICAD Classification', 'Window')\n",
    "print(f'Type of the found item: {type(classificationItem)}')\n",
    "print(classificationItem)\n",
    "print(type(classificationItem.classificationItemId))\n",
    "print(f'we can get the guid only if we need: {classificationItem.classificationItemId.guid}\\n')"
   ]
  },
  {
   "attachments": {},
   "cell_type": "markdown",
   "metadata": {},
   "source": [
    "<dd>Using the GetElementsByClassification() command with the classificationItemId got from step 1 (2nd step):<br><br>\n",
    "<b>GetElementsByClassification(</b><i>classificationItemId: ClassificationItemId</i><b>)</b> → List[ElementIdArrayItem]<br><br>\n",
    "Returns the identifier of every element with the given classification identifier.<br>\n",
    "<br>Parameters:<br>\n",
    "<i>classificationItemId (ClassificationItemId) – The identifier of a classification item.</i>\n",
    "<br>\n",
    "Returns:<br>\n",
    "<i>A list of elements.</i>\n",
    "<br>\n",
    "Return type:<br>\n",
    "<i>list of ElementIdArrayItem\n",
    "</dd>\n",
    "</dl>"
   ]
  },
  {
   "cell_type": "code",
   "execution_count": 72,
   "metadata": {},
   "outputs": [
    {
     "name": "stdout",
     "output_type": "stream",
     "text": [
      "Getting the elements' ids:\n",
      "ElementIdArrayItem {'elementId': {'guid': 'EAA67613-636E-4C66-B0DC-231A6DFD45F7'}}\n",
      "ElementIdArrayItem {'elementId': {'guid': '17F46B70-DADE-4441-8AD1-173A04671C01'}}\n",
      "ElementIdArrayItem {'elementId': {'guid': '69D6E4A1-3FD2-4283-816B-F9B75640E729'}}\n",
      "ElementIdArrayItem {'elementId': {'guid': 'CD17D722-65E4-4264-8479-D59202FC6E6E'}}\n",
      "ElementIdArrayItem {'elementId': {'guid': '8880C88E-7652-45DA-BD37-2604ED36729E'}}\n",
      "ElementIdArrayItem {'elementId': {'guid': '7B32239F-A123-4D19-A412-91E0168883C3'}}\n",
      "ElementIdArrayItem {'elementId': {'guid': 'A025C6AA-7088-41DB-A6DD-9B64DBF7C8B6'}}\n",
      "ElementIdArrayItem {'elementId': {'guid': '219E6870-DCAB-4F71-A271-D6216B664044'}}\n",
      "ElementIdArrayItem {'elementId': {'guid': 'D67FFF1D-DB78-4884-A520-755D8C89F118'}}\n",
      "ElementIdArrayItem {'elementId': {'guid': '45298259-0D6F-4566-86C5-5713AC42B08E'}}\n",
      "ElementIdArrayItem {'elementId': {'guid': 'C248FA74-18AD-4C97-BADE-0B4692BF6B4C'}}\n",
      "<class 'list'> , length of elements: 11\n",
      "First element Id: ElementId {'guid': 'EAA67613-636E-4C66-B0DC-231A6DFD45F7'}\n"
     ]
    }
   ],
   "source": [
    "elements = acc.GetElementsByClassification(\n",
    "    classificationItem.classificationItemId)\n",
    "print(\"Getting the elements' ids:\")\n",
    "print(*elements, sep='\\n')\n",
    "print(type(elements), f', length of elements: {len(elements)}')\n",
    "print(f\"First element Id: {elements[0].elementId}\")"
   ]
  },
  {
   "attachments": {},
   "cell_type": "markdown",
   "metadata": {},
   "source": [
    "<dl>\n",
    "<dt><li>Using the GetAllElements() command (1 step process):</li></dt><br>\n",
    "<dd><b>GetAllElements()</b> → List[ElementIdArrayItem]<br><br>\n",
    "Returns the identifier of every element in the current plan.<br>\n",
    "<br>Parameters:<br>\n",
    "<i>elementType (str) – The type of an element.</i>\n",
    "<br>\n",
    "Returns:<br>\n",
    "<i>A list of elements.</i>\n",
    "<br>\n",
    "Return type:<br>\n",
    "<i>list of ElementIdArrayItem</i>\n",
    "</dd>\n",
    "</dl>"
   ]
  },
  {
   "cell_type": "code",
   "execution_count": 43,
   "metadata": {},
   "outputs": [
    {
     "name": "stdout",
     "output_type": "stream",
     "text": [
      "Number of all elements in the project (length of the all_elements_lst): 45\n",
      "ElementIdArrayItem {'elementId': {'guid': 'A8138BA2-01DA-4193-AA14-974E9CA78483'}}\n",
      "ElementIdArrayItem {'elementId': {'guid': '29ABB091-81C6-4828-B3BF-B7B268D0B45B'}}\n",
      "ElementIdArrayItem {'elementId': {'guid': 'C054C783-FF9B-43D8-A9A0-3C779CF096BA'}}\n",
      "ElementIdArrayItem {'elementId': {'guid': 'B885985B-85A7-4377-A477-4B88189822CC'}}\n",
      "ElementIdArrayItem {'elementId': {'guid': '2F01B74E-3C9C-4FFD-BEC7-5ECAF4B106AD'}}\n"
     ]
    }
   ],
   "source": [
    "all_elements_lst = acc.GetAllElements()\n",
    "print(f'Number of all elements in the project (length of the all_elements_lst): {len(all_elements_lst)}')\n",
    "print(*all_elements_lst[:5], sep='\\n')"
   ]
  },
  {
   "attachments": {},
   "cell_type": "markdown",
   "metadata": {},
   "source": [
    "<h3 style='margin-bottom: -5px'>Important to consider:</h3><br>\n",
    "With the method GetElementsByType() we are using the type so we are getting all the elements of the requested type.<br>\n",
    "With the method GetElementsByClassification(), we are using the classifiction which can be inactive, not defined or used appropriately or whtever the case may be.In this case we have to check if those elements were selected we really wanted to.<br>\n",
    "e.g. GetElementsByType() select the slabs but GetElementsByClassification() select the slabs only with the slab clasification!  \n"
   ]
  },
  {
   "attachments": {},
   "cell_type": "markdown",
   "metadata": {},
   "source": [
    "<h2> Element properties:</h2>\n",
    "To obtain an <i>element property</i> we need to get the <i>'guid'</i> - <i>Globally Unique Identifier</i> (or 'UUID' - <i>Universally Unique Identifier</i>) of the required property."
   ]
  },
  {
   "attachments": {},
   "cell_type": "markdown",
   "metadata": {},
   "source": [
    "In order to get the property 'guid' we first need to get the element property ID:\n",
    "<dl>\n",
    "<dt><li>method 1 using the GetBuiltInPropertyId() utility (1 step process):</li></dt><br>\n",
    "<dd><b>GetBuiltInPropertyId(</b><i>name: str</i><b>)</b> → PropertyId<br><br>\n",
    "Returns the PropertyId of the corresponding built-in property.</dd>\n",
    "</dl>"
   ]
  },
  {
   "cell_type": "code",
   "execution_count": 44,
   "metadata": {},
   "outputs": [
    {
     "name": "stdout",
     "output_type": "stream",
     "text": [
      "PropertyId {'guid': '7E221F33-829B-4FBC-A670-E74DABCE6289'}\n",
      "[PropertyId {'guid': '7E221F33-829B-4FBC-A670-E74DABCE6289'}, PropertyId {'guid': 'C4B62357-1289-4D43-A3F6-AB02B192864C'}]\n"
     ]
    }
   ],
   "source": [
    "propertyId = acu.GetBuiltInPropertyId('General_ElementID')\n",
    "print(propertyId)\n",
    "# we can make a property Id list:\n",
    "propertyId_lst = [propertyId, acu.GetBuiltInPropertyId('General_Height')]\n",
    "print(propertyId_lst)"
   ]
  },
  {
   "attachments": {},
   "cell_type": "markdown",
   "metadata": {},
   "source": [
    "<dl>\n",
    "<dt><li>method 2 using the BuiltInPropertyUserId() type (2 steps process):</li></dt><br>\n",
    "<dd>Getting the Built in property user id (1st step):\n",
    "<br><br>\n",
    "<b>BuiltInPropertyUserId(</b><i>nonLocalizedName: str, type: str = 'BuiltIn'</i><b>)</b><br><br>\n",
    "Returns The unique identifier of a Built-In Property, identified by its name.\n",
    "<br><br>\n",
    "Variables:<br>\n",
    "<i>nonLocalizedName (str) – The non-localized name of the Built-In Property.<br>\n",
    "type (str) – EMPTY STRING</dd>\n",
    "</dl>"
   ]
  },
  {
   "cell_type": "code",
   "execution_count": 45,
   "metadata": {},
   "outputs": [
    {
     "name": "stdout",
     "output_type": "stream",
     "text": [
      "BuiltInPropertyUserId {'nonLocalizedName': 'General_ElementID', 'type': 'BuiltIn'}\n",
      "[BuiltInPropertyUserId {'nonLocalizedName': 'General_ElementID', 'type': 'BuiltIn'}, BuiltInPropertyUserId {'nonLocalizedName': 'General_Height', 'type': 'BuiltIn'}]\n"
     ]
    }
   ],
   "source": [
    "builtin_p_u_id = act.BuiltInPropertyUserId(\"General_ElementID\")\n",
    "print(builtin_p_u_id)\n",
    "# we can make a property Id list:\n",
    "builtin_p_u_id_lst = [builtin_p_u_id, act.BuiltInPropertyUserId(\"General_Height\")]\n",
    "print(builtin_p_u_id_lst)"
   ]
  },
  {
   "attachments": {},
   "cell_type": "markdown",
   "metadata": {},
   "source": [
    "<dd>Using the GetPropertyIds() command with the BuiltInPropertyUserId list got from step 1 (2nd step):<br><br>\n",
    "<b>GetPropertyIds(</b><i>properties: List [PropertyUserId]</i><b>)</b> → List [PropertyIdOrError]<br><br>\n",
    "Returns the identifiers of property definitions for the requested property names.<br>\n",
    "<br>Parameters:<br>\n",
    "<i>properties (list of PropertyUserId) – A list of PropertyUserId objects.</i>\n",
    "<br>\n",
    "Returns:<br>\n",
    "<i>A list of property identifiers or errors.</i>\n",
    "<br>\n",
    "Return type:<br>\n",
    "<i>list of PropertyIdOrError</i>\n",
    "</dd>\n",
    "</dl>"
   ]
  },
  {
   "cell_type": "code",
   "execution_count": 46,
   "metadata": {},
   "outputs": [
    {
     "name": "stdout",
     "output_type": "stream",
     "text": [
      "[PropertyIdArrayItem {'propertyId': {'guid': '7E221F33-829B-4FBC-A670-E74DABCE6289'}}, PropertyIdArrayItem {'propertyId': {'guid': 'C4B62357-1289-4D43-A3F6-AB02B192864C'}}]\n"
     ]
    }
   ],
   "source": [
    "prop_ids = acc.GetPropertyIds(builtin_p_u_id_lst)\n",
    "print(prop_ids)"
   ]
  },
  {
   "attachments": {},
   "cell_type": "markdown",
   "metadata": {},
   "source": [
    "<h4>Available element properties:</h4>\n",
    "Link to the properties:<br>\n",
    "<a href=\"url\">https://gdl.graphisoft.com/reference-guide/built-in-property-guide</a><br><br>\n",
    "List of the available properties (Element-related built-in property IDs):<br>\n",
    "<p style=\"font-size: em;\">Builtin.General_3DLength (introduced in ARCHICAD 25)\n",
    "<br>\n",
    "Builtin.General_3DPerimeter (introduced in ARCHICAD 25)<br>\n",
    "Builtin.General_Area (introduced in ARCHICAD 25)<br>\n",
    "Builtin.General_BottomElevationToFirstReferenceLevel (introduced in ARCHICAD 25)<br>\n",
    "Builtin.General_BottomElevationToHomeStory (introduced in ARCHICAD 25)<br>\n",
    "Builtin.General_BottomElevationToProjectZero (introduced in ARCHICAD 25)<br>\n",
    "Builtin.General_BottomElevationToSeaLevel (introduced in ARCHICAD 25)<br>\n",
    "Builtin.General_BottomElevationToSecondReferenceLevel (introduced in ARCHICAD 25)<br>\n",
    "Builtin.General_ConditionalBottomSurfaceArea (introduced in ARCHICAD 25)<br>\n",
    "Builtin.General_ConditionalTopSurfaceArea (introduced in ARCHICAD 25)<br>\n",
    "Builtin.General_ConditionalVolume (introduced in ARCHICAD 25)<br>\n",
    "Builtin.General_CrossSectionAreaAtBeginCut (introduced in ARCHICAD 25)<br>\n",
    "Builtin.General_CrossSectionAreaAtEndCut (introduced in ARCHICAD 25)<br>\n",
    "Builtin.General_CrossSectionHeightAtBeginCut (introduced in ARCHICAD 25)<br>\n",
    "Builtin.General_CrossSectionHeightAtBeginPerpendicular (introduced in ARCHICAD 25)<br>\n",
    "Builtin.General_CrossSectionHeightAtEndCut (introduced in ARCHICAD 25)<br>\n",
    "Builtin.General_CrossSectionHeightAtEndPerpendicular (introduced in ARCHICAD 25)<br>\n",
    "Builtin.General_CrossSectionWidthAtBeginCut (introduced in ARCHICAD 25)<br>\n",
    "Builtin.General_CrossSectionWidthAtBeginPerpendicular (introduced in ARCHICAD 25)<br>\n",
    "Builtin.General_CrossSectionWidthAtEndCut (introduced in ARCHICAD 25)<br>\n",
    "Builtin.General_CrossSectionWidthAtEndPerpendicular (introduced in ARCHICAD 25)<br>\n",
    "Builtin.General_ElementID (introduced in ARCHICAD 25)<br>\n",
    "Builtin.General_ElevationToFirstReferenceLevel (introduced in ARCHICAD 25)<br>\n",
    "Builtin.General_ElevationToProjectZero (introduced in ARCHICAD 25)<br>\n",
    "Builtin.General_ElevationToSeaLevel (introduced in ARCHICAD 25)<br>\n",
    "Builtin.General_ElevationToSecondReferenceLevel (introduced in ARCHICAD 25)<br>\n",
    "Builtin.General_ElevationToStory (introduced in ARCHICAD 25)<br>\n",
    "Builtin.General_FloorPlanHolesPerimeter (introduced in ARCHICAD 25)<br>\n",
    "Builtin.General_FloorPlanPerimeter (introduced in ARCHICAD 25)<br>\n",
    "Builtin.General_FromZone (introduced in ARCHICAD 25)<br>\n",
    "Builtin.General_FromZoneNumber (introduced in ARCHICAD 25)<br>\n",
    "Builtin.General_GrossVolume (introduced in ARCHICAD 25)<br>\n",
    "Builtin.General_Height (introduced in ARCHICAD 25)<br>\n",
    "Builtin.General_Holes3DPerimeter (introduced in ARCHICAD 25)<br>\n",
    "Builtin.General_HomeOffset (introduced in ARCHICAD 25)<br>\n",
    "Builtin.General_HotlinkAndElementID (introduced in ARCHICAD 25)<br>\n",
    "Builtin.General_HotlinkMasterID (introduced in ARCHICAD 25)<br>\n",
    "Builtin.General_InsulationSkinThickness (introduced in ARCHICAD 25)<br>\n",
    "Builtin.General_LastIssueID (introduced in ARCHICAD 25)<br>\n",
    "Builtin.General_LastIssueName (introduced in ARCHICAD 25)<br>\n",
    "Builtin.General_LibraryPartName (introduced in ARCHICAD 25)<br>\n",
    "Builtin.General_Locked (introduced in ARCHICAD 25)<br>\n",
    "Builtin.General_NetBottomSurfaceArea (introduced in ARCHICAD 25)<br>\n",
    "Builtin.General_NetEdgeSurfaceArea (introduced in ARCHICAD 25)<br>\n",
    "Builtin.General_NetTopSurfaceArea (introduced in ARCHICAD 25)<br>\n",
    "Builtin.General_NetVolume (introduced in ARCHICAD 25)<br>\n",
    "Builtin.General_OpeningNumber (introduced in ARCHICAD 25)<br>\n",
    "Builtin.General_OwnerID (introduced in ARCHICAD 25)<br>\n",
    "Builtin.General_RelatedZoneName (introduced in ARCHICAD 25)<br>\n",
    "Builtin.General_RelatedZoneNumber (introduced in ARCHICAD 25)<br>\n",
    "Builtin.General_SlantAngle (introduced in ARCHICAD 25)<br>\n",
    "Builtin.General_SurfaceArea (introduced in ARCHICAD 25)<br>\n",
    "Builtin.General_Thickness (introduced in ARCHICAD 25)<br>\n",
    "Builtin.General_ToZone (introduced in ARCHICAD 25)<br>\n",
    "Builtin.General_ToZoneNumber (introduced in ARCHICAD 25)<br>\n",
    "Builtin.General_TopElevationToFirstReferenceLevel (introduced in ARCHICAD 25)<br>\n",
    "Builtin.General_TopElevationToHomeStory (introduced in ARCHICAD 25)<br>\n",
    "Builtin.General_TopElevationToProjectZero (introduced in ARCHICAD 25)<br>\n",
    "Builtin.General_TopElevationToSeaLevel (introduced in ARCHICAD 25)<br>\n",
    "Builtin.General_TopElevationToSecondReferenceLevel (introduced in ARCHICAD 25)<br>\n",
    "Builtin.General_TopLinkStory (introduced in ARCHICAD 25)<br>\n",
    "Builtin.General_TopOffset (introduced in ARCHICAD 25)<br>\n",
    "Builtin.General_Type (introduced in ARCHICAD 25)<br>\n",
    "Builtin.General_UniqueID (introduced in ARCHICAD 25)<br>\n",
    "Builtin.General_Width (introduced in ARCHICAD 25)<br>\n",
    "Builtin.Zone_AreaReducement (introduced in ARCHICAD 25)<br>\n",
    "Builtin.Zone_CalculatedArea (introduced in ARCHICAD 25)<br>\n",
    "Builtin.Zone_ExtractedColumnArea (introduced in ARCHICAD 25)<br>\n",
    "Builtin.Zone_ExtractedCurtainWallArea (introduced in ARCHICAD 25)<br>\n",
    "Builtin.Zone_ExtractedFillArea (introduced in ARCHICAD 25)<br>\n",
    "Builtin.Zone_ExtractedLowArea (introduced in ARCHICAD 25)<br>\n",
    "Builtin.Zone_ExtractedWallArea (introduced in ARCHICAD 25)<br>\n",
    "Builtin.Zone_FloorThickness (introduced in ARCHICAD 25)<br>\n",
    "Builtin.Zone_MeasuredArea (introduced in ARCHICAD 25)<br>\n",
    "Builtin.Zone_NetArea (introduced in ARCHICAD 25)<br>\n",
    "Builtin.Zone_NetPerimeter (introduced in ARCHICAD 25)<br>\n",
    "Builtin.Zone_Perimeter (introduced in ARCHICAD 25)<br>\n",
    "Builtin.Zone_ReducedArea (introduced in ARCHICAD 25)<br>\n",
    "Builtin.Zone_TotalExtractedArea (introduced in ARCHICAD 25)<br>\n",
    "Builtin.Zone_WallInsetBackSideSurfaceArea (introduced in ARCHICAD 25)<br>\n",
    "Builtin.Zone_WallInsetSideSurfaceArea (introduced in ARCHICAD 25)<br>\n",
    "Builtin.Zone_WallInsetTopSurfaceArea (introduced in ARCHICAD 25)<br>\n",
    "Builtin.Zone_WallsPerimeter (introduced in ARCHICAD 25)<br>\n",
    "Builtin.Zone_ZoneCategory (introduced in ARCHICAD 25)<br>\n",
    "Builtin.Zone_ZoneCategoryCode (introduced in ARCHICAD 25)<br>\n",
    "Builtin.Zone_ZoneName (introduced in ARCHICAD 25)<br>\n",
    "Builtin.Zone_ZoneNumber (introduced in ARCHICAD 25)\n",
    "\n"
   ]
  },
  {
   "attachments": {},
   "cell_type": "markdown",
   "metadata": {},
   "source": [
    "<h4>Getting the details of the selected elements using property ids from method 1:</h4>"
   ]
  },
  {
   "cell_type": "code",
   "execution_count": 49,
   "metadata": {},
   "outputs": [
    {
     "name": "stdout",
     "output_type": "stream",
     "text": [
      "---------------------------------------------\n",
      "details of the list of PropertyValuesWrapper:\n",
      "---------------------------------------------\n",
      "[PropertyValuesWrapper {'propertyValues': [{'propertyValue': {'value': 'WD - 004', 'type': 'string', 'status': 'normal'}}, {'propertyValue': {'value': 1.5, 'type': 'length', 'status': 'normal'}}]}, PropertyValuesWrapper {'propertyValues': [{'propertyValue': {'value': 'WD - 004', 'type': 'string', 'status': 'normal'}}, {'propertyValue': {'value': 1.5, 'type': 'length', 'status': 'normal'}}]}, PropertyValuesWrapper {'propertyValues': [{'propertyValue': {'value': 'WD - 007', 'type': 'string', 'status': 'normal'}}, {'propertyValue': {'value': 1.5, 'type': 'length', 'status': 'normal'}}]}, PropertyValuesWrapper {'propertyValues': [{'propertyValue': {'value': 'WD - 008', 'type': 'string', 'status': 'normal'}}, {'propertyValue': {'value': 1.5, 'type': 'length', 'status': 'normal'}}]}, PropertyValuesWrapper {'propertyValues': [{'propertyValue': {'value': 'WD - 004', 'type': 'string', 'status': 'normal'}}, {'propertyValue': {'value': 1.5, 'type': 'length', 'status': 'normal'}}]}, PropertyValuesWrapper {'propertyValues': [{'propertyValue': {'value': 'WD - 005', 'type': 'string', 'status': 'normal'}}, {'propertyValue': {'value': 1.5, 'type': 'length', 'status': 'normal'}}]}, PropertyValuesWrapper {'propertyValues': [{'propertyValue': {'value': 'WD - 006', 'type': 'string', 'status': 'normal'}}, {'propertyValue': {'value': 1.5, 'type': 'length', 'status': 'normal'}}]}, PropertyValuesWrapper {'propertyValues': [{'propertyValue': {'value': 'WD - 003', 'type': 'string', 'status': 'normal'}}, {'propertyValue': {'value': 1.5, 'type': 'length', 'status': 'normal'}}]}, PropertyValuesWrapper {'propertyValues': [{'propertyValue': {'value': 'WD - 004', 'type': 'string', 'status': 'normal'}}, {'propertyValue': {'value': 1.5, 'type': 'length', 'status': 'normal'}}]}, PropertyValuesWrapper {'propertyValues': [{'propertyValue': {'value': 'WD - 002', 'type': 'string', 'status': 'normal'}}, {'propertyValue': {'value': 1.5, 'type': 'length', 'status': 'normal'}}]}, PropertyValuesWrapper {'propertyValues': [{'propertyValue': {'value': 'WD - 009', 'type': 'string', 'status': 'normal'}}, {'propertyValue': {'value': 1.5, 'type': 'length', 'status': 'normal'}}]}]\n",
      "<class 'list'>\n",
      "11\n",
      "PropertyValuesWrapper {'propertyValues': [{'propertyValue': {'value': 'WD - 004', 'type': 'string', 'status': 'normal'}}, {'propertyValue': {'value': 1.5, 'type': 'length', 'status': 'normal'}}]}\n",
      "<class 'archicad.releases.ac26.b3000types.PropertyValuesWrapper'>\n",
      "[PropertyValueWrapper {'propertyValue': {'value': 'WD - 004', 'type': 'string', 'status': 'normal'}}, PropertyValueWrapper {'propertyValue': {'value': 1.5, 'type': 'length', 'status': 'normal'}}]\n",
      "<class 'list'>\n",
      "2\n",
      "PropertyValueWrapper {'propertyValue': {'value': 'WD - 004', 'type': 'string', 'status': 'normal'}}\n",
      "<class 'archicad.releases.ac26.b3000types.PropertyValueWrapper'>\n",
      "\n",
      "-------------------------------------------\n",
      "element 0, property 1. (General_ElementID):\n",
      "-------------------------------------------\n",
      "NormalStringPropertyValue {'value': 'WD - 004', 'type': 'string', 'status': 'normal'} <class 'archicad.releases.ac26.b3000types.NormalStringPropertyValue'>\n",
      "WD - 004 <class 'str'>\n",
      "string <class 'str'>\n",
      "normal <class 'str'>\n",
      "\n",
      "----------------------------------------\n",
      "element 0, property 2. (General_Height):\n",
      "----------------------------------------\n",
      "NormalLengthPropertyValue {'value': 1.5, 'type': 'length', 'status': 'normal'} <class 'archicad.releases.ac26.b3000types.NormalLengthPropertyValue'>\n",
      "1.5 <class 'float'>\n",
      "length <class 'str'>\n",
      "normal <class 'str'>\n"
     ]
    }
   ],
   "source": [
    "prop_ids_of_elements = acc.GetPropertyValuesOfElements(elements, propertyId_lst)\n",
    "print('''---------------------------------------------\n",
    "details of the list of PropertyValuesWrapper:\n",
    "---------------------------------------------''')\n",
    "print(prop_ids_of_elements)\n",
    "print(type(prop_ids_of_elements))\n",
    "print(len(prop_ids_of_elements))\n",
    "print(prop_ids_of_elements[0])\n",
    "print(type(prop_ids_of_elements[0]))\n",
    "print(prop_ids_of_elements[0].propertyValues)\n",
    "print(type(prop_ids_of_elements[0].propertyValues))\n",
    "print(len(prop_ids_of_elements[0].propertyValues))\n",
    "print(prop_ids_of_elements[0].propertyValues[0])\n",
    "print(type(prop_ids_of_elements[0].propertyValues[0]))\n",
    "print('''\n",
    "-------------------------------------------\n",
    "element 0, property 1. (General_ElementID):\n",
    "-------------------------------------------''')\n",
    "print(prop_ids_of_elements[0].propertyValues[0].propertyValue, type(prop_ids_of_elements[0].propertyValues[0].propertyValue))\n",
    "print(prop_ids_of_elements[0].propertyValues[0].propertyValue.value, type(prop_ids_of_elements[0].propertyValues[0].propertyValue.value))\n",
    "print(prop_ids_of_elements[0].propertyValues[0].propertyValue.type, type(prop_ids_of_elements[0].propertyValues[0].propertyValue.type))\n",
    "print(prop_ids_of_elements[0].propertyValues[0].propertyValue.status, type(prop_ids_of_elements[0].propertyValues[0].propertyValue.status))\n",
    "print('''\n",
    "----------------------------------------\n",
    "element 0, property 2. (General_Height):\n",
    "----------------------------------------''')\n",
    "print(prop_ids_of_elements[0].propertyValues[1].propertyValue, type(prop_ids_of_elements[0].propertyValues[1].propertyValue))\n",
    "print(prop_ids_of_elements[0].propertyValues[1].propertyValue.value, type(prop_ids_of_elements[0].propertyValues[1].propertyValue.value))\n",
    "print(prop_ids_of_elements[0].propertyValues[1].propertyValue.type, type(prop_ids_of_elements[0].propertyValues[1].propertyValue.type))\n",
    "print(prop_ids_of_elements[0].propertyValues[1].propertyValue.status, type(prop_ids_of_elements[0].propertyValues[1].propertyValue.status))"
   ]
  },
  {
   "attachments": {},
   "cell_type": "markdown",
   "metadata": {},
   "source": [
    "<h4>Getting the details of the selected elements using property ids from method 2:</h4>"
   ]
  },
  {
   "cell_type": "code",
   "execution_count": 50,
   "metadata": {},
   "outputs": [
    {
     "name": "stdout",
     "output_type": "stream",
     "text": [
      "---------------------------------------------\n",
      "details of the list of PropertyValuesWrapper:\n",
      "---------------------------------------------\n",
      "[PropertyValuesWrapper {'propertyValues': [{'propertyValue': {'value': 'WD - 004', 'type': 'string', 'status': 'normal'}}, {'propertyValue': {'value': 1.5, 'type': 'length', 'status': 'normal'}}]}, PropertyValuesWrapper {'propertyValues': [{'propertyValue': {'value': 'WD - 004', 'type': 'string', 'status': 'normal'}}, {'propertyValue': {'value': 1.5, 'type': 'length', 'status': 'normal'}}]}, PropertyValuesWrapper {'propertyValues': [{'propertyValue': {'value': 'WD - 007', 'type': 'string', 'status': 'normal'}}, {'propertyValue': {'value': 1.5, 'type': 'length', 'status': 'normal'}}]}, PropertyValuesWrapper {'propertyValues': [{'propertyValue': {'value': 'WD - 008', 'type': 'string', 'status': 'normal'}}, {'propertyValue': {'value': 1.5, 'type': 'length', 'status': 'normal'}}]}, PropertyValuesWrapper {'propertyValues': [{'propertyValue': {'value': 'WD - 004', 'type': 'string', 'status': 'normal'}}, {'propertyValue': {'value': 1.5, 'type': 'length', 'status': 'normal'}}]}, PropertyValuesWrapper {'propertyValues': [{'propertyValue': {'value': 'WD - 005', 'type': 'string', 'status': 'normal'}}, {'propertyValue': {'value': 1.5, 'type': 'length', 'status': 'normal'}}]}, PropertyValuesWrapper {'propertyValues': [{'propertyValue': {'value': 'WD - 006', 'type': 'string', 'status': 'normal'}}, {'propertyValue': {'value': 1.5, 'type': 'length', 'status': 'normal'}}]}, PropertyValuesWrapper {'propertyValues': [{'propertyValue': {'value': 'WD - 003', 'type': 'string', 'status': 'normal'}}, {'propertyValue': {'value': 1.5, 'type': 'length', 'status': 'normal'}}]}, PropertyValuesWrapper {'propertyValues': [{'propertyValue': {'value': 'WD - 004', 'type': 'string', 'status': 'normal'}}, {'propertyValue': {'value': 1.5, 'type': 'length', 'status': 'normal'}}]}, PropertyValuesWrapper {'propertyValues': [{'propertyValue': {'value': 'WD - 002', 'type': 'string', 'status': 'normal'}}, {'propertyValue': {'value': 1.5, 'type': 'length', 'status': 'normal'}}]}, PropertyValuesWrapper {'propertyValues': [{'propertyValue': {'value': 'WD - 009', 'type': 'string', 'status': 'normal'}}, {'propertyValue': {'value': 1.5, 'type': 'length', 'status': 'normal'}}]}]\n",
      "<class 'list'>\n",
      "11\n",
      "PropertyValuesWrapper {'propertyValues': [{'propertyValue': {'value': 'WD - 004', 'type': 'string', 'status': 'normal'}}, {'propertyValue': {'value': 1.5, 'type': 'length', 'status': 'normal'}}]}\n",
      "<class 'archicad.releases.ac26.b3000types.PropertyValuesWrapper'>\n",
      "[PropertyValueWrapper {'propertyValue': {'value': 'WD - 004', 'type': 'string', 'status': 'normal'}}, PropertyValueWrapper {'propertyValue': {'value': 1.5, 'type': 'length', 'status': 'normal'}}]\n",
      "<class 'list'>\n",
      "2\n",
      "PropertyValueWrapper {'propertyValue': {'value': 'WD - 004', 'type': 'string', 'status': 'normal'}}\n",
      "<class 'archicad.releases.ac26.b3000types.PropertyValueWrapper'>\n",
      "\n",
      "-------------------------------------------\n",
      "element 0, property 1. (General_ElementID):\n",
      "-------------------------------------------\n",
      "NormalStringPropertyValue {'value': 'WD - 004', 'type': 'string', 'status': 'normal'} <class 'archicad.releases.ac26.b3000types.NormalStringPropertyValue'>\n",
      "WD - 004 <class 'str'>\n",
      "string <class 'str'>\n",
      "normal <class 'str'>\n",
      "\n",
      "----------------------------------------\n",
      "element 0, property 2. (General_Height):\n",
      "----------------------------------------\n",
      "NormalLengthPropertyValue {'value': 1.5, 'type': 'length', 'status': 'normal'} <class 'archicad.releases.ac26.b3000types.NormalLengthPropertyValue'>\n",
      "1.5 <class 'float'>\n",
      "length <class 'str'>\n",
      "normal <class 'str'>\n"
     ]
    }
   ],
   "source": [
    "prop_ids_of_elements = acc.GetPropertyValuesOfElements(elements, prop_ids)\n",
    "print('''---------------------------------------------\n",
    "details of the list of PropertyValuesWrapper:\n",
    "---------------------------------------------''')\n",
    "print(prop_ids_of_elements)\n",
    "print(type(prop_ids_of_elements))\n",
    "print(len(prop_ids_of_elements))\n",
    "print(prop_ids_of_elements[0])\n",
    "print(type(prop_ids_of_elements[0]))\n",
    "print(prop_ids_of_elements[0].propertyValues)\n",
    "print(type(prop_ids_of_elements[0].propertyValues))\n",
    "print(len(prop_ids_of_elements[0].propertyValues))\n",
    "print(prop_ids_of_elements[0].propertyValues[0])\n",
    "print(type(prop_ids_of_elements[0].propertyValues[0]))\n",
    "print('''\n",
    "-------------------------------------------\n",
    "element 0, property 1. (General_ElementID):\n",
    "-------------------------------------------''')\n",
    "print(prop_ids_of_elements[0].propertyValues[0].propertyValue, type(prop_ids_of_elements[0].propertyValues[0].propertyValue))\n",
    "print(prop_ids_of_elements[0].propertyValues[0].propertyValue.value, type(prop_ids_of_elements[0].propertyValues[0].propertyValue.value))\n",
    "print(prop_ids_of_elements[0].propertyValues[0].propertyValue.type, type(prop_ids_of_elements[0].propertyValues[0].propertyValue.type))\n",
    "print(prop_ids_of_elements[0].propertyValues[0].propertyValue.status, type(prop_ids_of_elements[0].propertyValues[0].propertyValue.status))\n",
    "print('''\n",
    "----------------------------------------\n",
    "element 0, property 2. (General_Height):\n",
    "----------------------------------------''')\n",
    "print(prop_ids_of_elements[0].propertyValues[1].propertyValue, type(prop_ids_of_elements[0].propertyValues[1].propertyValue))\n",
    "print(prop_ids_of_elements[0].propertyValues[1].propertyValue.value, type(prop_ids_of_elements[0].propertyValues[1].propertyValue.value))\n",
    "print(prop_ids_of_elements[0].propertyValues[1].propertyValue.type, type(prop_ids_of_elements[0].propertyValues[1].propertyValue.type))\n",
    "print(prop_ids_of_elements[0].propertyValues[1].propertyValue.status, type(prop_ids_of_elements[0].propertyValues[1].propertyValue.status))"
   ]
  },
  {
   "attachments": {},
   "cell_type": "markdown",
   "metadata": {},
   "source": [
    "<h2>Modify element properties' values:</h2>\n",
    "<h4>Workflow</h4>\n",
    "<dl>\n",
    "    <dt><ol><li>Preparing Element property values</dt>\n",
    "    <dd><b>ElementPropertyValue(</b><i>elementId: ElementId, propertyId: PropertyId, propertyValue: NormalOrUserUndefinedPropertyValue</i><b>)</b> utility:<br><br>\n",
    "    A property value with the identifiers of the property and its owner element.<br><br>\n",
    "Variables:<br>\n",
    "<i>elementId (ElementId) – The identifier of an element.\n",
    "<br>\n",
    "propertyId (PropertyId) – The identifier of a property.\n",
    "<br>\n",
    "propertyValue (NormalOrUserUndefinedPropertyValue) – A normal or a userUndefined property value.</li>"
   ]
  },
  {
   "cell_type": "code",
   "execution_count": 83,
   "metadata": {},
   "outputs": [
    {
     "name": "stdout",
     "output_type": "stream",
     "text": [
      "Total number of elements to modify: 11\n",
      "ElementPropertyValue {'elementId': {'guid': 'EAA67613-636E-4C66-B0DC-231A6DFD45F7'}, 'propertyId': {'guid': '7E221F33-829B-4FBC-A670-E74DABCE6289'}, 'propertyValue': {'value': 'Main window - 1', 'type': 'string', 'status': 'normal'}}\n",
      "ElementPropertyValue {'elementId': {'guid': 'EAA67613-636E-4C66-B0DC-231A6DFD45F7'}, 'propertyId': {'guid': 'C4B62357-1289-4D43-A3F6-AB02B192864C'}, 'propertyValue': {'value': 0.8, 'type': 'length', 'status': 'normal'}}\n",
      "ElementPropertyValue {'elementId': {'guid': '17F46B70-DADE-4441-8AD1-173A04671C01'}, 'propertyId': {'guid': '7E221F33-829B-4FBC-A670-E74DABCE6289'}, 'propertyValue': {'value': 'Main window - 2', 'type': 'string', 'status': 'normal'}}\n",
      "ElementPropertyValue {'elementId': {'guid': '17F46B70-DADE-4441-8AD1-173A04671C01'}, 'propertyId': {'guid': 'C4B62357-1289-4D43-A3F6-AB02B192864C'}, 'propertyValue': {'value': 0.9, 'type': 'length', 'status': 'normal'}}\n",
      "ElementPropertyValue {'elementId': {'guid': '69D6E4A1-3FD2-4283-816B-F9B75640E729'}, 'propertyId': {'guid': '7E221F33-829B-4FBC-A670-E74DABCE6289'}, 'propertyValue': {'value': 'Main window - 3', 'type': 'string', 'status': 'normal'}}\n",
      "ElementPropertyValue {'elementId': {'guid': '69D6E4A1-3FD2-4283-816B-F9B75640E729'}, 'propertyId': {'guid': 'C4B62357-1289-4D43-A3F6-AB02B192864C'}, 'propertyValue': {'value': 1.0, 'type': 'length', 'status': 'normal'}}\n",
      "ElementPropertyValue {'elementId': {'guid': 'CD17D722-65E4-4264-8479-D59202FC6E6E'}, 'propertyId': {'guid': '7E221F33-829B-4FBC-A670-E74DABCE6289'}, 'propertyValue': {'value': 'Main window - 4', 'type': 'string', 'status': 'normal'}}\n",
      "ElementPropertyValue {'elementId': {'guid': 'CD17D722-65E4-4264-8479-D59202FC6E6E'}, 'propertyId': {'guid': 'C4B62357-1289-4D43-A3F6-AB02B192864C'}, 'propertyValue': {'value': 1.1, 'type': 'length', 'status': 'normal'}}\n",
      "ElementPropertyValue {'elementId': {'guid': '8880C88E-7652-45DA-BD37-2604ED36729E'}, 'propertyId': {'guid': '7E221F33-829B-4FBC-A670-E74DABCE6289'}, 'propertyValue': {'value': 'Main window - 5', 'type': 'string', 'status': 'normal'}}\n",
      "ElementPropertyValue {'elementId': {'guid': '8880C88E-7652-45DA-BD37-2604ED36729E'}, 'propertyId': {'guid': 'C4B62357-1289-4D43-A3F6-AB02B192864C'}, 'propertyValue': {'value': 1.2000000000000002, 'type': 'length', 'status': 'normal'}}\n",
      "ElementPropertyValue {'elementId': {'guid': '7B32239F-A123-4D19-A412-91E0168883C3'}, 'propertyId': {'guid': '7E221F33-829B-4FBC-A670-E74DABCE6289'}, 'propertyValue': {'value': 'Main window - 6', 'type': 'string', 'status': 'normal'}}\n",
      "ElementPropertyValue {'elementId': {'guid': '7B32239F-A123-4D19-A412-91E0168883C3'}, 'propertyId': {'guid': 'C4B62357-1289-4D43-A3F6-AB02B192864C'}, 'propertyValue': {'value': 1.3, 'type': 'length', 'status': 'normal'}}\n",
      "ElementPropertyValue {'elementId': {'guid': 'A025C6AA-7088-41DB-A6DD-9B64DBF7C8B6'}, 'propertyId': {'guid': '7E221F33-829B-4FBC-A670-E74DABCE6289'}, 'propertyValue': {'value': 'Main window - 7', 'type': 'string', 'status': 'normal'}}\n",
      "ElementPropertyValue {'elementId': {'guid': 'A025C6AA-7088-41DB-A6DD-9B64DBF7C8B6'}, 'propertyId': {'guid': 'C4B62357-1289-4D43-A3F6-AB02B192864C'}, 'propertyValue': {'value': 1.4000000000000001, 'type': 'length', 'status': 'normal'}}\n",
      "ElementPropertyValue {'elementId': {'guid': '219E6870-DCAB-4F71-A271-D6216B664044'}, 'propertyId': {'guid': '7E221F33-829B-4FBC-A670-E74DABCE6289'}, 'propertyValue': {'value': 'Main window - 8', 'type': 'string', 'status': 'normal'}}\n",
      "ElementPropertyValue {'elementId': {'guid': '219E6870-DCAB-4F71-A271-D6216B664044'}, 'propertyId': {'guid': 'C4B62357-1289-4D43-A3F6-AB02B192864C'}, 'propertyValue': {'value': 1.5, 'type': 'length', 'status': 'normal'}}\n",
      "ElementPropertyValue {'elementId': {'guid': 'D67FFF1D-DB78-4884-A520-755D8C89F118'}, 'propertyId': {'guid': '7E221F33-829B-4FBC-A670-E74DABCE6289'}, 'propertyValue': {'value': 'Main window - 9', 'type': 'string', 'status': 'normal'}}\n",
      "ElementPropertyValue {'elementId': {'guid': 'D67FFF1D-DB78-4884-A520-755D8C89F118'}, 'propertyId': {'guid': 'C4B62357-1289-4D43-A3F6-AB02B192864C'}, 'propertyValue': {'value': 1.6, 'type': 'length', 'status': 'normal'}}\n",
      "ElementPropertyValue {'elementId': {'guid': '45298259-0D6F-4566-86C5-5713AC42B08E'}, 'propertyId': {'guid': '7E221F33-829B-4FBC-A670-E74DABCE6289'}, 'propertyValue': {'value': 'Main window - 10', 'type': 'string', 'status': 'normal'}}\n",
      "ElementPropertyValue {'elementId': {'guid': '45298259-0D6F-4566-86C5-5713AC42B08E'}, 'propertyId': {'guid': 'C4B62357-1289-4D43-A3F6-AB02B192864C'}, 'propertyValue': {'value': 1.7000000000000002, 'type': 'length', 'status': 'normal'}}\n",
      "ElementPropertyValue {'elementId': {'guid': 'C248FA74-18AD-4C97-BADE-0B4692BF6B4C'}, 'propertyId': {'guid': '7E221F33-829B-4FBC-A670-E74DABCE6289'}, 'propertyValue': {'value': 'Main window - 11', 'type': 'string', 'status': 'normal'}}\n",
      "ElementPropertyValue {'elementId': {'guid': 'C248FA74-18AD-4C97-BADE-0B4692BF6B4C'}, 'propertyId': {'guid': 'C4B62357-1289-4D43-A3F6-AB02B192864C'}, 'propertyValue': {'value': 1.8, 'type': 'length', 'status': 'normal'}}\n",
      "Total number of elements modified: 11\n",
      "Total number of element's properties modified - length of propertyId_lst for each element,\n",
      "in our case this is 2 for each element (General_elementID and General_Height): 22\n"
     ]
    }
   ],
   "source": [
    "# Preparing a new element property list with multiple list comprehension\n",
    "# in order to modify the window IDs to 'Main window - Increasing index number from 1'\n",
    "# and modify the window height to 800 mm for the first and increase this by +100 mm for the following and +100 mm for the next and so on.\n",
    "print(f'Total number of elements to modify: {len(elements)}')\n",
    "new_el_pr = [act.ElementPropertyValue(elements[i].elementId,\n",
    "                                    propertyId_lst[l],\n",
    "                                    [act.NormalStringPropertyValue, act.NormalLengthPropertyValue][l]([f'Main window - {i+1}', 0.8+0.1*i][l])) for i in range(len(elements)) for l in range(len(propertyId_lst))]\n",
    "print(*new_el_pr, sep='\\n') # using * and sep argument to print every element in new line\n",
    "print(f'Total number of elements modified: {int(len(new_el_pr)/len(propertyId_lst))}')\n",
    "print(f\"\"\"Total number of element's properties modified - length of propertyId_lst for each element,\n",
    "in our case this is 2 for each element (General_elementID and General_Height): {int(len(new_el_pr))}\"\"\")"
   ]
  },
  {
   "attachments": {},
   "cell_type": "markdown",
   "metadata": {},
   "source": [
    "<dt><ol start=2><li>Setting Element property values to elements</dt>\n",
    "    <dd><b>SetPropertyValuesOfElements(</b><i>elementPropertyValues: List[ElementPropertyValue]</i><b>)</b> command:<br><br>\n",
    "    Sets the property values of elements.<br><br>\n",
    "Parameters:<br>\n",
    "<i>elementPropertyValues (list of ElementPropertyValue) – A list of element property values.</i>\n",
    "<br>\n",
    "Returns:\n",
    "<br>\n",
    "<i>A list of execution results.</i>\n",
    "<br>\n",
    "Return type:\n",
    "<br>\n",
    "<i>list of ExecutionResult</i>\n",
    "</li>"
   ]
  },
  {
   "cell_type": "code",
   "execution_count": 84,
   "metadata": {},
   "outputs": [
    {
     "data": {
      "text/plain": [
       "[SuccessfulExecutionResult {'success': True},\n",
       " SuccessfulExecutionResult {'success': True},\n",
       " SuccessfulExecutionResult {'success': True},\n",
       " SuccessfulExecutionResult {'success': True},\n",
       " SuccessfulExecutionResult {'success': True},\n",
       " SuccessfulExecutionResult {'success': True},\n",
       " SuccessfulExecutionResult {'success': True},\n",
       " SuccessfulExecutionResult {'success': True},\n",
       " SuccessfulExecutionResult {'success': True},\n",
       " SuccessfulExecutionResult {'success': True},\n",
       " SuccessfulExecutionResult {'success': True},\n",
       " SuccessfulExecutionResult {'success': True},\n",
       " SuccessfulExecutionResult {'success': True},\n",
       " SuccessfulExecutionResult {'success': True},\n",
       " SuccessfulExecutionResult {'success': True},\n",
       " SuccessfulExecutionResult {'success': True},\n",
       " SuccessfulExecutionResult {'success': True},\n",
       " SuccessfulExecutionResult {'success': True},\n",
       " SuccessfulExecutionResult {'success': True},\n",
       " SuccessfulExecutionResult {'success': True},\n",
       " SuccessfulExecutionResult {'success': True},\n",
       " SuccessfulExecutionResult {'success': True}]"
      ]
     },
     "execution_count": 84,
     "metadata": {},
     "output_type": "execute_result"
    }
   ],
   "source": [
    "acc.SetPropertyValuesOfElements(new_el_pr)"
   ]
  },
  {
   "attachments": {},
   "cell_type": "markdown",
   "metadata": {},
   "source": [
    "<b>Note:</b> As you have probably noticed the changes doesn't follow any common logic e.g. clockwise.<br>\n",
    "To pinpoint an element we can use for example the the <b>Get3DBoundingBoxes()</b> command and based on the elements' positions we can sort the element list as we like."
   ]
  },
  {
   "attachments": {},
   "cell_type": "markdown",
   "metadata": {},
   "source": [
    "<h2>Modify element classification value:</h2>\n",
    "<h4>Workflow</h4>\n",
    "<dl>\n",
    "    <dt><ol><li>Getting the classificationId value using the above already used</dt>\n",
    "    <dd><b>FindClassificationItemInSystem(</b><i>system_name: str, item_id: str</i><b>)</b> utility.<br><br>"
   ]
  },
  {
   "cell_type": "code",
   "execution_count": 93,
   "metadata": {},
   "outputs": [
    {
     "name": "stdout",
     "output_type": "stream",
     "text": [
      "Type of the found item: <class 'archicad.releases.ac26.b3000types.ClassificationItemInTree'>\n",
      "ClassificationItemInTree {'classificationItemId': {'guid': '0747DE76-67A9-4FD3-8321-8D5F938271FA'}, 'id': 'Door', 'name': '', 'description': '', 'children': [{'classificationItem': {'classificationItemId': {'guid': '9377292D-0D12-4347-A63C-DBE4487B3D52'}, 'id': 'Gate', 'name': '', 'description': ''}}, {'classificationItem': {'classificationItemId': {'guid': 'A331CC36-C023-4817-BB98-8C3F07DD9661'}, 'id': 'Trapdoor', 'name': '', 'description': ''}}]}\n",
      "<class 'archicad.releases.ac26.b3000types.ClassificationItemId'>\n",
      "we can get the guid only if we need: 0747de76-67a9-4fd3-8321-8d5f938271fa\n",
      "\n"
     ]
    }
   ],
   "source": [
    "classificationItem = acu.FindClassificationItemInSystem(\n",
    "    'ARCHICAD Classification', 'Door')\n",
    "print(f'Type of the found item: {type(classificationItem)}')\n",
    "print(classificationItem)\n",
    "print(type(classificationItem.classificationItemId))\n",
    "print(f'we can get the guid only if we need: {classificationItem.classificationItemId.guid}\\n')"
   ]
  },
  {
   "attachments": {},
   "cell_type": "markdown",
   "metadata": {},
   "source": [
    "<dt><ol start=2><li>To prepare the element classification value besides the classification Id we need to get the the <i>Classification System Ids</i></dt>\n",
    "    <dd><b>GetClassificationSystemIds(</b><i></i><b>)</b>  → List[ClassificationSystemIdArrayItem] command:<br><br>\n",
    "    Returns the list of available classification systems.<br><br>\n",
    "Returns:\n",
    "<br>\n",
    "<i>A list of classification system identifiers.</i>\n",
    "<br>\n",
    "Return type:\n",
    "<br>\n",
    "<i>list of ClassificationSystemIdArrayItem</i>\n",
    "</li>"
   ]
  },
  {
   "cell_type": "code",
   "execution_count": 94,
   "metadata": {},
   "outputs": [
    {
     "data": {
      "text/plain": [
       "ClassificationSystemId {'guid': '632C30E5-2B82-4A75-BFAD-D52FEBCE9A4A'}"
      ]
     },
     "execution_count": 94,
     "metadata": {},
     "output_type": "execute_result"
    }
   ],
   "source": [
    "acc.GetClassificationSystemIds()[0].classificationSystemId"
   ]
  },
  {
   "attachments": {},
   "cell_type": "markdown",
   "metadata": {},
   "source": [
    "<dt><ol start=3><li>Using Classification Id type prepare the new classification Id</dt>\n",
    "    <dd><b>ClassificationId(</b><i>classificationSystemId: ClassificationSystemId, classificationItemId: Optional[ClassificationItemId] = None</i><b>)</b> type:<br><br>\n",
    "    The element classification identifier.<br><br>\n",
    "Variables:\n",
    "<br><i>\n",
    "classificationSystemId (ClassificationSystemId) – The identifier of a classification system.\n",
    "classificationItemId (ClassificationItemId, optional) – The identifier of a classification item.\n",
    "<br>\n",
    "</li>"
   ]
  },
  {
   "cell_type": "code",
   "execution_count": 95,
   "metadata": {},
   "outputs": [
    {
     "name": "stdout",
     "output_type": "stream",
     "text": [
      "ClassificationId {'classificationSystemId': {'guid': '632C30E5-2B82-4A75-BFAD-D52FEBCE9A4A'}, 'classificationItemId': {'guid': '0747DE76-67A9-4FD3-8321-8D5F938271FA'}}\n"
     ]
    }
   ],
   "source": [
    "cl_id = act.ClassificationId(acc.GetClassificationSystemIds()[0].classificationSystemId, classificationItem.classificationItemId)\n",
    "print(cl_id)"
   ]
  },
  {
   "attachments": {},
   "cell_type": "markdown",
   "metadata": {},
   "source": [
    "<dt><ol start=4><li>Using ElementClassification type prepare the new element classicifaction</dt>\n",
    "    <dd><b>ElementClassification(</b><i>elementId: ElementId, classificationId: ClassificationId</i><b>)</b> type:<br><br>\n",
    "The classification of an element.<br><br>\n",
    "Variables:\n",
    "<br>\n",
    "<i>elementId (ElementId) – The identifier of an element.\n",
    "classificationId (ClassificationId) – The element classification identifier.\n",
    "<br>\n",
    "</li>"
   ]
  },
  {
   "cell_type": "code",
   "execution_count": 96,
   "metadata": {},
   "outputs": [
    {
     "name": "stdout",
     "output_type": "stream",
     "text": [
      "ElementClassification {'elementId': {'guid': 'EAA67613-636E-4C66-B0DC-231A6DFD45F7'}, 'classificationId': {'classificationSystemId': {'guid': '632C30E5-2B82-4A75-BFAD-D52FEBCE9A4A'}, 'classificationItemId': {'guid': '0747DE76-67A9-4FD3-8321-8D5F938271FA'}}}\n"
     ]
    }
   ],
   "source": [
    "el_cl = act.ElementClassification(elements[0].elementId, cl_id)\n",
    "print(el_cl)"
   ]
  },
  {
   "attachments": {},
   "cell_type": "markdown",
   "metadata": {},
   "source": [
    "<dt><ol start=5><li>Using SetClassificationsOfElements command to set the element new classification</dt>\n",
    "    <dd><b>SetClassificationsOfElements(</b><i>elementClassifications: List[ElementClassification]</i><b>)</b> command:<br><br>\n",
    "Sets the classifications of elements. In order to set the classification of an element to unclassified, omit the classificationItemId field.<br><br>\n",
    "Parameters:\n",
    "<br>\n",
    "<i>elementClassifications (list of ElementClassification) – A list of element classification identifiers.</i>\n",
    "<br>\n",
    "Returns:\n",
    "<br>\n",
    "<i>A list of execution results.</i>\n",
    "<br>\n",
    "Return type:\n",
    "<br>\n",
    "<i>list of ExecutionResult</i>\n",
    "</li>"
   ]
  },
  {
   "cell_type": "code",
   "execution_count": 97,
   "metadata": {},
   "outputs": [
    {
     "data": {
      "text/plain": [
       "[SuccessfulExecutionResult {'success': True}]"
      ]
     },
     "execution_count": 97,
     "metadata": {},
     "output_type": "execute_result"
    }
   ],
   "source": [
    "acc.SetClassificationsOfElements([el_cl])"
   ]
  },
  {
   "attachments": {},
   "cell_type": "markdown",
   "metadata": {},
   "source": [
    "With the above method we modified the classification of the first window element in the element list to 'Door'.<br>\n",
    "If you check in Archicad the 800mm wide window element (down left corner of the building) you can see it is a window however the classification is changed to 'Door'. "
   ]
  },
  {
   "attachments": {},
   "cell_type": "markdown",
   "metadata": {},
   "source": [
    "I hope this quick introduction will be a good base to your Archicad python API journey."
   ]
  }
 ],
 "metadata": {
  "kernelspec": {
   "display_name": "Python 3",
   "language": "python",
   "name": "python3"
  },
  "language_info": {
   "codemirror_mode": {
    "name": "ipython",
    "version": 3
   },
   "file_extension": ".py",
   "mimetype": "text/x-python",
   "name": "python",
   "nbconvert_exporter": "python",
   "pygments_lexer": "ipython3",
   "version": "3.11.0"
  },
  "orig_nbformat": 4
 },
 "nbformat": 4,
 "nbformat_minor": 2
}
